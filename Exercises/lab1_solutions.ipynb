{
  "cells": [
    {
      "cell_type": "markdown",
      "metadata": {
        "id": "Z0N8O29sZtvM"
      },
      "source": [
        "# Lab 1: Introduction to Generative AI\n",
        "\n",
        "The lab is divided in two parts.\n",
        "In the first part, we will introduce simple generative models for a discrete and a continuous distribution.\n",
        "The goal is to present the basics of training a probabilitic model.\n",
        "\n",
        "In the second part, we study the generation of sentences with large languages models (LLMs).\n",
        "Most LLMs are auto-regressive models which iteratively produce a discrete distribution of the next word."
      ]
    },
    {
      "cell_type": "markdown",
      "metadata": {
        "id": "I7JkvL-OZtvP"
      },
      "source": [
        "## 0. Preconfiguration"
      ]
    },
    {
      "cell_type": "markdown",
      "metadata": {
        "id": "xuJUSaxgZtvP"
      },
      "source": [
        "We install the required libaries."
      ]
    },
    {
      "cell_type": "code",
      "execution_count": 1,
      "metadata": {
        "id": "QOlI1qwhZtvP"
      },
      "outputs": [
        {
          "name": "stdout",
          "output_type": "stream",
          "text": [
            "Note: you may need to restart the kernel to use updated packages.\n"
          ]
        }
      ],
      "source": [
        "%pip install --quiet --upgrade transformers"
      ]
    },
    {
      "cell_type": "markdown",
      "metadata": {
        "id": "z-d4yGPSZtvQ"
      },
      "source": [
        "We import useful libraries."
      ]
    },
    {
      "cell_type": "code",
      "execution_count": 2,
      "metadata": {
        "id": "jy_FsXpJZtvQ"
      },
      "outputs": [
        {
          "name": "stderr",
          "output_type": "stream",
          "text": [
            "/home/victor/miniconda3/lib/python3.9/site-packages/scipy/__init__.py:146: UserWarning: A NumPy version >=1.17.3 and <1.25.0 is required for this version of SciPy (detected version 1.25.0\n",
            "  warnings.warn(f\"A NumPy version >={np_minversion} and <{np_maxversion}\"\n"
          ]
        }
      ],
      "source": [
        "import torch\n",
        "from torch.distributions import Normal, Categorical, MixtureSameFamily, Independent\n",
        "import numpy as np\n",
        "import matplotlib.pyplot as plt\n",
        "from sklearn.datasets import make_moons\n",
        "from transformers import AutoTokenizer, AutoModelForCausalLM"
      ]
    },
    {
      "cell_type": "markdown",
      "metadata": {
        "id": "y_wIqMZxZtvQ"
      },
      "source": [
        "We check that a GPU is available."
      ]
    },
    {
      "cell_type": "code",
      "execution_count": 3,
      "metadata": {
        "colab": {
          "base_uri": "https://localhost:8080/"
        },
        "id": "cAc3VNleZtvR",
        "outputId": "7c924ffd-ca47-4bb4-ce6d-79e71720689a"
      },
      "outputs": [
        {
          "data": {
            "text/plain": [
              "True"
            ]
          },
          "execution_count": 3,
          "metadata": {},
          "output_type": "execute_result"
        }
      ],
      "source": [
        "torch.cuda.is_available()"
      ]
    },
    {
      "cell_type": "markdown",
      "metadata": {
        "id": "6k_YlcLIZtvR"
      },
      "source": [
        "In Google Colab, if the above code returns False, click on `Runtime`, `Change runtime type`, and choose `T4 GPU`. Then run the notebook again from the start."
      ]
    },
    {
      "cell_type": "markdown",
      "metadata": {
        "id": "mWYNidLaZtvR"
      },
      "source": [
        "## 1. A simple generative model for a discrete distribution"
      ]
    },
    {
      "cell_type": "markdown",
      "metadata": {
        "id": "Rd5F1xOkZtvR"
      },
      "source": [
        "We consider a random variable $X$ with a categorical distribution over 3 classes $C_1$, $C_2$ and $C_3$.\n",
        "The probabilities for each classes are $\\mathbb{P}(X = C_1) = 0.1$, $\\mathbb{P}(X = C_2) = 0.1$ and $\\mathbb{P}(X = C_3) = 0.8$."
      ]
    },
    {
      "cell_type": "code",
      "execution_count": 4,
      "metadata": {
        "id": "e1yd4E0MZtvT"
      },
      "outputs": [],
      "source": [
        "true_probabilities = [0.1, 0.1, 0.8]\n",
        "true_dist = Categorical(torch.tensor(true_probabilities))"
      ]
    },
    {
      "cell_type": "markdown",
      "metadata": {
        "id": "kNBqLTnLZtvU"
      },
      "source": [
        "The probability simplex over three classes is a triangular representation used to visualize probability distributions.\n",
        "Any point inside the triangle represents a probability distribution among the three classes. The closer a point is to a particular vertex, the higher the probability of that corresponding class.\n",
        "A point exactly in the center would indicate equal probabilities for all three classes.\n",
        "In the following plot, we indicate the true probability in the probability simplex."
      ]
    },
    {
      "cell_type": "code",
      "execution_count": 5,
      "metadata": {
        "cellView": "form",
        "id": "VxLb-DTXbw69"
      },
      "outputs": [],
      "source": [
        "#@title Simplex plotting function\n",
        "\n",
        "import matplotlib.tri as tri\n",
        "import matplotlib.pyplot as plt\n",
        "import numpy as np\n",
        "\n",
        "\n",
        "def plot_simplex(probas=None, true_probas=None):\n",
        "    # Create a triangular grid\n",
        "    corners = np.array([[0, 0], [1, 0], [0.5, np.sqrt(3)/2]])\n",
        "    triangle = tri.Triangulation(corners[:, 0], corners[:, 1], [[0, 1, 2]])\n",
        "\n",
        "    # Create the plot\n",
        "    fig, axis = plt.subplots(figsize=(8, 7))\n",
        "    axis.triplot(triangle, 'k-')\n",
        "\n",
        "    # Label the vertices\n",
        "    alignements = [('right', 'top'), ('left', 'top'), ('center', 'bottom')]\n",
        "    labels = ['$C_3$', '$C_1$', '$C_2$']\n",
        "    for i, corner in enumerate(corners):\n",
        "        ha, va = alignements[i]\n",
        "        axis.text(corner[0], corner[1], labels[i], ha=ha, va=va)\n",
        "\n",
        "    if probas is not None:\n",
        "        probas = np.array(probas)\n",
        "        x = probas[:, 0] + probas[:, 1]/2\n",
        "        y = probas[:, 1] * np.sqrt(3)/2\n",
        "        plt.plot(x, y, 'o', markersize=5)\n",
        "\n",
        "    if true_probas is not None:\n",
        "        x = true_probas[0] + true_probas[1]/2\n",
        "        y = true_probas[1] * np.sqrt(3)/2\n",
        "        plt.plot(x, y, 'ro', markersize=5)\n",
        "\n",
        "    # Set plot limits\n",
        "    axis.set_xlim(-0.1, 1.1)\n",
        "    axis.set_ylim(-0.1, 1.1 * np.sqrt(3)/2)\n",
        "\n",
        "    axis.axis('off')\n",
        "    plt.show()"
      ]
    },
    {
      "cell_type": "code",
      "execution_count": 6,
      "metadata": {
        "colab": {
          "base_uri": "https://localhost:8080/",
          "height": 576
        },
        "id": "v73cGqbJZtvU",
        "outputId": "c7a07883-fde3-4123-9dfb-8267ba166c90"
      },
      "outputs": [
        {
          "data": {
            "image/png": "[encoded data removed]",
            "text/plain": [
              "<Figure size 576x504 with 1 Axes>"
            ]
          },
          "metadata": {
            "needs_background": "light"
          },
          "output_type": "display_data"
        }
      ],
      "source": [
        "plot_simplex(true_probas=true_probabilities)"
      ]
    },
    {
      "cell_type": "markdown",
      "metadata": {
        "id": "3BqHAxaFZtvU"
      },
      "source": [
        "We suppose that we have access to a dataset of 1000 samples of $X$ and we show the first 20 instances."
      ]
    },
    {
      "cell_type": "code",
      "execution_count": 7,
      "metadata": {
        "colab": {
          "base_uri": "https://localhost:8080/"
        },
        "id": "8DYwvIPJZtvU",
        "outputId": "11358f5d-7082-40f0-da62-d209fc2315fe"
      },
      "outputs": [
        {
          "data": {
            "text/plain": [
              "tensor([2, 2, 1, 2, 2, 2, 2, 2, 1, 2, 1, 1, 2, 2, 2, 2, 2, 2, 2, 2])"
            ]
          },
          "execution_count": 7,
          "metadata": {},
          "output_type": "execute_result"
        }
      ],
      "source": [
        "X = true_dist.sample((1000,))\n",
        "X[:20]"
      ]
    },
    {
      "cell_type": "markdown",
      "metadata": {
        "id": "mY3Rmu5TZtvU"
      },
      "source": [
        "We can estimate the distribution of $X$ by counting the number of samples in each class with a histogram."
      ]
    },
    {
      "cell_type": "code",
      "execution_count": 8,
      "metadata": {
        "colab": {
          "base_uri": "https://localhost:8080/",
          "height": 432
        },
        "id": "J93SDI6pZtvU",
        "outputId": "bb1b5e35-b082-4cd8-c933-5b7e18564f14"
      },
      "outputs": [
        {
          "data": {
            "image/png": "[encoded data removed]",
            "text/plain": [
              "<Figure size 432x288 with 1 Axes>"
            ]
          },
          "metadata": {
            "needs_background": "light"
          },
          "output_type": "display_data"
        }
      ],
      "source": [
        "plt.bar(['$C_1$', '$C_2$', '$C_3$'], np.bincount(X))\n",
        "plt.show()"
      ]
    },
    {
      "cell_type": "markdown",
      "metadata": {
        "id": "6ru8fRxkZtvU"
      },
      "source": [
        "In future labs, we will study the training procedure of Deep Generative Models.\n",
        "To have a better understanding, we will estimate the distribution of $X$ with the same optimization procedure than Deep Generative Models: **maximum likelihood estimation** with **gradient descent**.\n",
        "We define a PyTorch module for a categorical distribution with one parameter per class.\n",
        "We use the softmax function to ensure that the probabilities sum to 1."
      ]
    },
    {
      "cell_type": "code",
      "execution_count": 9,
      "metadata": {
        "id": "feUgh1cvZtvU"
      },
      "outputs": [],
      "source": [
        "class CategoricalModule(torch.nn.Module):\n",
        "    def __init__(self, n_classes):\n",
        "        super().__init__()\n",
        "        self.logits = torch.nn.Parameter(torch.zeros(n_classes))\n",
        "\n",
        "    def dist(self):\n",
        "        probs = torch.softmax(self.logits, dim=-1)\n",
        "        return Categorical(probs)"
      ]
    },
    {
      "cell_type": "markdown",
      "metadata": {
        "id": "g6QMp7vsZtvU"
      },
      "source": [
        "We can access the probabilities of our distribution using `.probs`."
      ]
    },
    {
      "cell_type": "code",
      "execution_count": 10,
      "metadata": {
        "colab": {
          "base_uri": "https://localhost:8080/"
        },
        "id": "SBpMh1leZtvU",
        "outputId": "14b6c038-fddb-402b-a774-14b904ea3839"
      },
      "outputs": [
        {
          "data": {
            "text/plain": [
              "tensor([0.3333, 0.3333, 0.3333], grad_fn=<DivBackward0>)"
            ]
          },
          "execution_count": 10,
          "metadata": {},
          "output_type": "execute_result"
        }
      ],
      "source": [
        "module = CategoricalModule(3)\n",
        "module.dist().probs"
      ]
    },
    {
      "cell_type": "markdown",
      "metadata": {
        "id": "cOc062aBZtvV"
      },
      "source": [
        "We can also sample using `.sample()` and evaluate the probability of a sample using `.log_prob()`."
      ]
    },
    {
      "cell_type": "code",
      "execution_count": 11,
      "metadata": {
        "colab": {
          "base_uri": "https://localhost:8080/"
        },
        "id": "NymZp700ZtvV",
        "outputId": "54297a00-44bd-4dff-d7d8-f4bc20bc88d0"
      },
      "outputs": [
        {
          "name": "stdout",
          "output_type": "stream",
          "text": [
            "tensor(2)\n",
            "tensor(0.3333, grad_fn=<ExpBackward0>)\n"
          ]
        }
      ],
      "source": [
        "sample = module.dist().sample()\n",
        "print(sample)\n",
        "print(module.dist().log_prob(sample).exp())"
      ]
    },
    {
      "cell_type": "markdown",
      "metadata": {
        "id": "vq36A8gqZtvV"
      },
      "source": [
        "In this code, we perform maximum likelihood estimation using gradient descent with the optimizer Adam."
      ]
    },
    {
      "cell_type": "code",
      "execution_count": 12,
      "metadata": {
        "id": "PLeAH7ZhZtvV"
      },
      "outputs": [],
      "source": [
        "def train(X, lr=0.01, nb_steps=300):\n",
        "    module = CategoricalModule(3)\n",
        "    loss_list = []\n",
        "    probs_list = []\n",
        "    \n",
        "    optimizer = torch.optim.Adam(module.parameters(), lr=lr)\n",
        "    for step in range(nb_steps):\n",
        "        optimizer.zero_grad()\n",
        "        dist = module.dist()\n",
        "        # We compute the negative log-likelihood of the samples\n",
        "        loss = -dist.log_prob(X).mean()\n",
        "        # We compute the gradients\n",
        "        loss.backward()\n",
        "        # We modify the parameters using gradient descent\n",
        "        optimizer.step()\n",
        "        loss_list.append(loss.item())\n",
        "        # We collect the probabilities every 20 steps\n",
        "        if step % 20 == 0:\n",
        "            probs = dist.probs.detach().numpy()\n",
        "            probs_list.append(probs)\n",
        "    \n",
        "    plot_simplex(probas=probs_list, true_probas=true_probabilities)\n",
        "    plt.plot(loss_list)"
      ]
    },
    {
      "cell_type": "markdown",
      "metadata": {
        "id": "0MUU7rxjZtvV"
      },
      "source": [
        "We plot the probability simplex with the estimated probabilities per step in blue and the true probability in red."
      ]
    },
    {
      "cell_type": "markdown",
      "metadata": {
        "id": "LkWnlrxXZtvV"
      },
      "source": [
        "Can you plot the loss per step?"
      ]
    },
    {
      "cell_type": "code",
      "execution_count": 13,
      "metadata": {
        "id": "kRTmmoB-ZtvV"
      },
      "outputs": [
        {
          "data": {
            "image/png": "[encoded data removed]",
            "text/plain": [
              "<Figure size 576x504 with 1 Axes>"
            ]
          },
          "metadata": {
            "needs_background": "light"
          },
          "output_type": "display_data"
        },
        {
          "data": {
            "image/png": "[encoded data removed]",
            "text/plain": [
              "<Figure size 432x288 with 1 Axes>"
            ]
          },
          "metadata": {
            "needs_background": "light"
          },
          "output_type": "display_data"
        }
      ],
      "source": [
        "# Note: the plot was added inside of a function to make it easier to compare the results.\n",
        "train(X, lr=0.01, nb_steps=300)"
      ]
    },
    {
      "cell_type": "markdown",
      "metadata": {
        "id": "GpcAtYOPZtvV"
      },
      "source": [
        "You can experiment with other learning rates `lr` and number of steps `nb_steps`. What do you observe?"
      ]
    },
    {
      "cell_type": "code",
      "execution_count": 14,
      "metadata": {
        "id": "LZOSiJaiZtvV"
      },
      "outputs": [
        {
          "data": {
            "image/png": "[encoded data removed]",
            "text/plain": [
              "<Figure size 576x504 with 1 Axes>"
            ]
          },
          "metadata": {
            "needs_background": "light"
          },
          "output_type": "display_data"
        },
        {
          "data": {
            "image/png": "[encoded data removed]",
            "text/plain": [
              "<Figure size 432x288 with 1 Axes>"
            ]
          },
          "metadata": {
            "needs_background": "light"
          },
          "output_type": "display_data"
        }
      ],
      "source": [
        "train(X, lr=0.1, nb_steps=300) # A higher learning rate leads to a faster convergence (but there is some instability in the loss)"
      ]
    },
    {
      "cell_type": "code",
      "execution_count": 15,
      "metadata": {},
      "outputs": [
        {
          "data": {
            "image/png": "[encoded data removed]",
            "text/plain": [
              "<Figure size 576x504 with 1 Axes>"
            ]
          },
          "metadata": {
            "needs_background": "light"
          },
          "output_type": "display_data"
        },
        {
          "data": {
            "image/png": "[encoded data removed]",
            "text/plain": [
              "<Figure size 432x288 with 1 Axes>"
            ]
          },
          "metadata": {
            "needs_background": "light"
          },
          "output_type": "display_data"
        }
      ],
      "source": [
        "train(X, lr=0.001, nb_steps=2000) # A lower learning rate leads to a slower convergence"
      ]
    },
    {
      "cell_type": "markdown",
      "metadata": {
        "id": "Dz4U34ecZtvV"
      },
      "source": [
        "Suppose that we change the true probabilities to the probabilities defined below.\n",
        "\n",
        "Can you execute the optimization algorithm with these true probabilities?"
      ]
    },
    {
      "cell_type": "code",
      "execution_count": 16,
      "metadata": {
        "id": "xufZaOYhZtvW"
      },
      "outputs": [
        {
          "data": {
            "image/png": "[encoded data removed]",
            "text/plain": [
              "<Figure size 576x504 with 1 Axes>"
            ]
          },
          "metadata": {
            "needs_background": "light"
          },
          "output_type": "display_data"
        },
        {
          "data": {
            "image/png": "[encoded data removed]",
            "text/plain": [
              "<Figure size 432x288 with 1 Axes>"
            ]
          },
          "metadata": {
            "needs_background": "light"
          },
          "output_type": "display_data"
        }
      ],
      "source": [
        "true_probabilities = [0.45, 0.45, 0.1]\n",
        "true_dist = Categorical(torch.tensor(true_probabilities))\n",
        "X = true_dist.sample((1000,))\n",
        "\n",
        "train(X, lr=0.01, nb_steps=300)"
      ]
    },
    {
      "cell_type": "markdown",
      "metadata": {
        "id": "hLQhqmlEZtvW"
      },
      "source": [
        "## 2. A simple generative model for a continuous distribution"
      ]
    },
    {
      "cell_type": "markdown",
      "metadata": {
        "id": "shdQGmcPZtvW"
      },
      "source": [
        "We now consider a generative model for a two-dimensional continuous variable $X \\in \\mathbb{R}^2$ from the dataset *moons*. We have access to a datasets of 1000 samples."
      ]
    },
    {
      "cell_type": "code",
      "execution_count": 17,
      "metadata": {
        "colab": {
          "base_uri": "https://localhost:8080/",
          "height": 430
        },
        "id": "NTKSwpmIZtvW",
        "outputId": "e432de54-12a7-4790-e9b5-119c4c75aa52"
      },
      "outputs": [
        {
          "data": {
            "image/png": "[encoded data removed]",
            "text/plain": [
              "<Figure size 432x288 with 1 Axes>"
            ]
          },
          "metadata": {
            "needs_background": "light"
          },
          "output_type": "display_data"
        }
      ],
      "source": [
        "X, _ = make_moons(n_samples=1000, noise=0.1)\n",
        "X = torch.from_numpy(X).float()\n",
        "plt.scatter(X[:, 0], X[:, 1])\n",
        "plt.show()"
      ]
    },
    {
      "cell_type": "markdown",
      "metadata": {
        "id": "QNYIBQqrZtvW"
      },
      "source": [
        "We define a PyTorch module for a Gaussian mixture model where the mean, standard deviation and weight of each component are estimated."
      ]
    },
    {
      "cell_type": "code",
      "execution_count": 18,
      "metadata": {
        "id": "IkWdmBpXZtvW"
      },
      "outputs": [],
      "source": [
        "class MixtureModule(torch.nn.Module):\n",
        "    def __init__(self, n_components, d):\n",
        "        super().__init__()\n",
        "        self.mean = torch.nn.Parameter(torch.randn((n_components, d)))\n",
        "        self.rho = torch.nn.Parameter(torch.ones_like(self.mean))\n",
        "        self.logits = torch.nn.Parameter(torch.zeros(n_components))\n",
        "\n",
        "    def dist(self):\n",
        "        probs = torch.softmax(self.logits, dim=-1)\n",
        "        stddev = torch.nn.Softplus()(self.rho) + 1e-5\n",
        "        return MixtureSameFamily(Categorical(probs), Independent(Normal(self.mean, stddev), 1))"
      ]
    },
    {
      "cell_type": "markdown",
      "metadata": {
        "id": "wvdD1fQ0ZtvZ"
      },
      "source": [
        "We can access the means, standard deviations and weights using the following code."
      ]
    },
    {
      "cell_type": "code",
      "execution_count": 19,
      "metadata": {
        "colab": {
          "base_uri": "https://localhost:8080/"
        },
        "id": "90oK-3kwZtva",
        "outputId": "10c17436-e6e8-4aba-8d52-a72de26ac3a7"
      },
      "outputs": [
        {
          "name": "stdout",
          "output_type": "stream",
          "text": [
            "Parameter containing:\n",
            "tensor([[ 1.3151,  0.3938],\n",
            "        [ 0.6300, -0.1914],\n",
            "        [-0.2531, -0.0079]], requires_grad=True)\n",
            "tensor([[1.3133, 1.3133],\n",
            "        [1.3133, 1.3133],\n",
            "        [1.3133, 1.3133]], grad_fn=<SqrtBackward0>)\n",
            "tensor([0.3333, 0.3333, 0.3333], grad_fn=<DivBackward0>)\n"
          ]
        }
      ],
      "source": [
        "module = MixtureModule(3, 2) # 3 components, 2 dimensions\n",
        "dist = module.dist()\n",
        "print(dist.component_distribution.mean)\n",
        "print(dist.component_distribution.stddev)\n",
        "print(dist.mixture_distribution.probs)"
      ]
    },
    {
      "cell_type": "markdown",
      "metadata": {
        "id": "mvb0ZA8oZtva"
      },
      "source": [
        "As for the categorical distribution, we can also sample using `.sample()` and evaluate the probability of a sample using `.log_prob()`."
      ]
    },
    {
      "cell_type": "code",
      "execution_count": 20,
      "metadata": {
        "colab": {
          "base_uri": "https://localhost:8080/"
        },
        "id": "86WMFgztZtva",
        "outputId": "a8bf29c2-8b66-46e9-8729-ac1b2c1cc8fb"
      },
      "outputs": [
        {
          "name": "stdout",
          "output_type": "stream",
          "text": [
            "tensor([-1.4400,  0.7036])\n",
            "tensor(0.0280, grad_fn=<ExpBackward0>)\n"
          ]
        }
      ],
      "source": [
        "sample = module.dist().sample()\n",
        "print(sample)\n",
        "print(module.dist().log_prob(sample).exp())"
      ]
    },
    {
      "cell_type": "markdown",
      "metadata": {
        "id": "ScdSpleTZtva"
      },
      "source": [
        "Can you plot 1000 samples?"
      ]
    },
    {
      "cell_type": "code",
      "execution_count": 21,
      "metadata": {
        "id": "cCdPRGdCZtva"
      },
      "outputs": [
        {
          "data": {
            "image/png": "[encoded data removed]",
            "text/plain": [
              "<Figure size 432x288 with 1 Axes>"
            ]
          },
          "metadata": {
            "needs_background": "light"
          },
          "output_type": "display_data"
        }
      ],
      "source": [
        "samples = dist.sample((1000,))\n",
        "plt.scatter(samples[:, 0], samples[:, 1])\n",
        "plt.show()"
      ]
    },
    {
      "cell_type": "markdown",
      "metadata": {
        "id": "Rc-4D40UZtva"
      },
      "source": [
        "As before, we estimate the parameters using maximum likelihood estimation with gradient descent.\n",
        "\n",
        "Modify the code to:\n",
        "1. Collect the loss at each step and plot the loss per step at the end of training.\n",
        "2. Plot samples of the estimated distribution after steps 0, 500, 1000, ..., 3500.\n",
        "3. On the same plot, add the mean of each component of the mixture.\n",
        "\n",
        "You can take inspiration from the training code for the discrete distribution (Section 1)."
      ]
    },
    {
      "cell_type": "code",
      "execution_count": 22,
      "metadata": {
        "id": "uCTUNTZ1Ztva"
      },
      "outputs": [
        {
          "data": {
            "image/png": "[encoded data removed]",
            "text/plain": [
              "<Figure size 1152x576 with 8 Axes>"
            ]
          },
          "metadata": {
            "needs_background": "light"
          },
          "output_type": "display_data"
        }
      ],
      "source": [
        "def plot_samples(results_list):\n",
        "    fig, axes = plt.subplots(2, 4, figsize=(16, 8), sharex=True, sharey=True)\n",
        "    for axis, results in zip(axes.flatten(), results_list):\n",
        "        step, samples, means, weights = results\n",
        "        axis.scatter(samples[:, 0], samples[:, 1], s=2)\n",
        "        axis.scatter(means[:, 0], means[:, 1], color='red', s=weights * 30 * 4)\n",
        "        axis.set_title(f\"Step {step}\")\n",
        "        axis.set(xlim=(-2, 3), ylim=(-1.2, 1.7))\n",
        "    plt.show()\n",
        "\n",
        "\n",
        "def train(X, lr=0.004, nb_steps=3500):\n",
        "    module = MixtureModule(30, 2)\n",
        "\n",
        "    loss_list = []\n",
        "    results_list = []\n",
        "    interval = nb_steps // 7\n",
        "\n",
        "    optimizer = torch.optim.Adam(module.parameters(), lr=lr)\n",
        "    for step in range(nb_steps):\n",
        "        optimizer.zero_grad()\n",
        "        dist = module.dist()\n",
        "        loss = -dist.log_prob(X).mean()\n",
        "        loss.backward()\n",
        "        optimizer.step()\n",
        "        loss_list.append(loss.item())\n",
        "        if step % interval == 0 or step == nb_steps - 1:\n",
        "            samples = dist.sample((1000,)).detach()\n",
        "            means = dist.component_distribution.mean.detach()\n",
        "            weights = dist.mixture_distribution.probs.detach()\n",
        "            results_list.append((step, samples, means, weights))\n",
        "\n",
        "    # For better visualization, we store the results and plot the samples in a 2x4 grid instead of a single plot per step\n",
        "    plot_samples(results_list)\n",
        "\n",
        "\n",
        "train(X, lr=0.004, nb_steps=3500)"
      ]
    },
    {
      "cell_type": "markdown",
      "metadata": {
        "id": "R6Um8iEVZtva"
      },
      "source": [
        "Experiment with other learning rates `lr` and number of steps `nb_steps`. What do you observe?"
      ]
    },
    {
      "cell_type": "code",
      "execution_count": 23,
      "metadata": {},
      "outputs": [
        {
          "data": {
            "image/png": "[encoded data removed]",
            "text/plain": [
              "<Figure size 1152x576 with 8 Axes>"
            ]
          },
          "metadata": {
            "needs_background": "light"
          },
          "output_type": "display_data"
        }
      ],
      "source": [
        "train(X, lr=0.1, nb_steps=100) # For a simple distribution like this one, a higher learning rate is fine"
      ]
    },
    {
      "cell_type": "code",
      "execution_count": 33,
      "metadata": {},
      "outputs": [
        {
          "data": {
            "image/png": "[encoded data removed]",
            "text/plain": [
              "<Figure size 1152x576 with 8 Axes>"
            ]
          },
          "metadata": {
            "needs_background": "light"
          },
          "output_type": "display_data"
        }
      ],
      "source": [
        "train(X, lr=1, nb_steps=100) # Learning rates that are too high can lead to instability"
      ]
    },
    {
      "cell_type": "markdown",
      "metadata": {
        "id": "whzl9hLiZtva"
      },
      "source": [
        "One limitation of generative models is that they can learn to copy data. This phenomenon is known as overfitting.\n",
        "This will be especially the case if there is less data than parameters.\n",
        "\n",
        "In the previous experiment, we used a dataset of size 1000. Can you create a dataset of size 10, run the training algorithm, and note your observations?"
      ]
    },
    {
      "cell_type": "code",
      "execution_count": 25,
      "metadata": {
        "id": "qe6nj7fUZtva"
      },
      "outputs": [
        {
          "data": {
            "image/png": "[encoded data removed]",
            "text/plain": [
              "<Figure size 432x288 with 1 Axes>"
            ]
          },
          "metadata": {
            "needs_background": "light"
          },
          "output_type": "display_data"
        }
      ],
      "source": [
        "X, _ = make_moons(n_samples=10, noise=0.1)\n",
        "X = torch.from_numpy(X).float()\n",
        "plt.scatter(X[:, 0], X[:, 1])\n",
        "plt.show()"
      ]
    },
    {
      "cell_type": "code",
      "execution_count": 26,
      "metadata": {},
      "outputs": [
        {
          "data": {
            "image/png": "[encoded data removed]",
            "text/plain": [
              "<Figure size 1152x576 with 8 Axes>"
            ]
          },
          "metadata": {
            "needs_background": "light"
          },
          "output_type": "display_data"
        }
      ],
      "source": [
        "train(X, lr=0.001, nb_steps=7000) # We observe that the distribution is too flexible and becomes concentrated on the individual points of the dataset."
      ]
    },
    {
      "cell_type": "markdown",
      "metadata": {
        "id": "5jjagCx7Ztva"
      },
      "source": [
        "## 3. Large language models (LLMs)"
      ]
    },
    {
      "cell_type": "markdown",
      "metadata": {
        "id": "Piv3VZ63Ztva"
      },
      "source": [
        "We consider the model GPT-2 (Generative Pre-trained Transformer 2), which has been developed by OpenAI in 2019.\n",
        "\n",
        "It has been trained on BookCorpus, a dataset of over 7,000 self-published fiction books from various genres, and trained on a dataset of 8 million web pages.\n",
        "\n",
        "In contrast to GPT-3 and GPT-4, it is an open-source models, which means that its parameters have been released to the public.\n",
        "\n",
        "We first download and load the parameters of the large version of the model (774 million parameters)."
      ]
    },
    {
      "cell_type": "code",
      "execution_count": 27,
      "metadata": {
        "colab": {
          "base_uri": "https://localhost:8080/",
          "height": 209,
          "referenced_widgets": [
            "8d99704fde674aab927e5b1b000cc52a",
            "8795ff54727c4d44ad25523b47a474f7",
            "bd7aba2a491a4296986d9c4ad3ee7d82",
            "254440e01b244b57bb3d8a8a76f85253",
            "71e35dbe7d824f62b61ba96e65c82fc7",
            "56c2bdddf2e646e0828ebdbc40d4821c",
            "6ff0bed69e4f4fe7973b2bb9cc69c36a",
            "e84c4f48d012401fab2df09377062e03",
            "a0c98eef34d54471baf7ed6824b5a80e",
            "f9c8ee5486474a15bb19a1e22a6f9474",
            "7c711ad5c8e04d20ba74233122940aa9",
            "95dec9a53e81410bb95b53efd32e04ab",
            "3255b6cf0e6d4c87bf18cbbdc135ba43",
            "b94a62e62f0f4c7998c43eeb29e71b93",
            "91150f2bf9054933afef97df22630a6d",
            "2be0e75e3e23484da70139a9f0a3ab67",
            "222929fba0fa48b580a0326c6a95a14d",
            "2db51fb160cf406da57f1399feaa49ee",
            "796bd2fe1fe54c76b54fc359a7778b4f",
            "e3e7e6f29db045c9bc8dd03a77cd5e6a",
            "0401b837de6442ad9d5a1c02a16ab43b",
            "5cb1e3f49b4146ec8a5cb7cf6fd77b7f",
            "4bf96c6c4fe943408b70405d4163a1ea",
            "4242a002e2eb4cbea4ab4268496860eb",
            "8b1d9898770947859915240da20fa482",
            "571fab504cba4b4d8eee6f9a6e357896",
            "d0cec55784fa40b083990cd25dbbf15d",
            "9a279ca8089a44c7ada285026b09f2b3",
            "28772f5ab167497dbf05182aae694e1d",
            "516effef8aaa4e10b45be0c6d5015a66",
            "8010a76a13a145aa970f1246c5b9ab10",
            "33aaca0d238f491aa7806ce2a842c8b6",
            "8f83a0b7820749c09bb792da2cb7508a",
            "4003e3f1e7944009b47cc30c3e35f570",
            "00f021faa8164c169aa3f9aae12013c0",
            "380cb045aef541dbb84235098d234609",
            "4205da8411354e9fa126d7d82127fa52",
            "fcbdc507651d48ff9bd858e0bf15c94f",
            "cfb062f84c99417caa4923dce11fdde9",
            "64a9414f8b564eccb1eb8b964acbf024",
            "48c339a663c2466bb82e3478d7d2d1a1",
            "bf88e61ea80841b1a972feb9944995dc",
            "139327fd3b454024ad64e194af7ed31c",
            "1fb1e96074014bdc890936fd8087999b",
            "775193ac7d2f46feb051d5a6f5ef3b20",
            "81ea294c1004465ebe7fa52dafd7a456",
            "ff4bb771565c4567b0c7e2d8a9efe6e8",
            "db56d5694f6543879cb5e00da0b299e7",
            "40e590d12f944b6cbde7a923d4a49759",
            "3200dfc142ce4242b0f844842351d287",
            "a4d4b3047c1546218165cee19d4fc0cc",
            "616fffdc9379400699b665063c907f0c",
            "c17ea8077da54df2b7f72becfa7054a8",
            "fe449f07e23046fc9b45267b4ba9035b",
            "781b429c4e1e415dbb1b8270c5784aa3",
            "aa5d6018b06f43aba5013dd61d271ad0",
            "2313567f90164ef7b364ced4547588d2",
            "1172706660fe43ec8186182c49e3b43b",
            "54db713552844e0e94db30950f52ade4",
            "6e0e4d6e29124c04976ae20111816c22",
            "13c66410b42a4e71898f1744c70235d8",
            "fffe094ee0b6435a8cbd23925bbc9bd6",
            "5bd395992e664685938395045933420c",
            "4ab982d86bd44d63b92109fe08ba1513",
            "b3edfd11d1fa4cf1808ec246c8955450",
            "5288cd89c56b46beacf9637d2ce62c6a"
          ]
        },
        "id": "8j1NpaiJZtvb",
        "outputId": "c69bf56e-a053-481c-c630-13a0bc060055"
      },
      "outputs": [],
      "source": [
        "#model_name = \"llmware/bling-1b-0.1\"\n",
        "model_name = \"gpt2-large\"\n",
        "tokenizer = AutoTokenizer.from_pretrained(model_name)\n",
        "model = AutoModelForCausalLM.from_pretrained(model_name)"
      ]
    },
    {
      "cell_type": "markdown",
      "metadata": {
        "id": "YkAPQ-axZtvb"
      },
      "source": [
        "We count the total number of parameters by summing the number of elements in each group of parameters `p`."
      ]
    },
    {
      "cell_type": "code",
      "execution_count": 28,
      "metadata": {
        "colab": {
          "base_uri": "https://localhost:8080/"
        },
        "id": "DKy4fnD-Ztvb",
        "outputId": "c990a7a4-309b-48d1-f70f-bada9b4639d2"
      },
      "outputs": [
        {
          "data": {
            "text/plain": [
              "774030080"
            ]
          },
          "execution_count": 28,
          "metadata": {},
          "output_type": "execute_result"
        }
      ],
      "source": [
        "sum(p.numel() for p in model.parameters())"
      ]
    },
    {
      "cell_type": "markdown",
      "metadata": {
        "id": "oA1KEbg5Ztvb"
      },
      "source": [
        "First, we encode an input text to a list of numbers using a tokenizer."
      ]
    },
    {
      "cell_type": "code",
      "execution_count": 29,
      "metadata": {
        "colab": {
          "base_uri": "https://localhost:8080/"
        },
        "id": "AjxV0XJxZtvb",
        "outputId": "eba68744-ae9b-4826-9978-3e1149b065d8"
      },
      "outputs": [
        {
          "data": {
            "text/plain": [
              "tensor([[3666, 4004, 2057,  318]])"
            ]
          },
          "execution_count": 29,
          "metadata": {},
          "output_type": "execute_result"
        }
      ],
      "source": [
        "input_text = \"My favorite food is\"\n",
        "input_ids = tokenizer.encode(input_text, return_tensors='pt')\n",
        "input_ids"
      ]
    },
    {
      "cell_type": "markdown",
      "metadata": {
        "id": "CFY1Uq7VZtvb"
      },
      "source": [
        "By calling the model, we get *logits*, which are then transformed into probabilities using the *softmax* function."
      ]
    },
    {
      "cell_type": "code",
      "execution_count": 30,
      "metadata": {
        "id": "5QG3kn1_Ztvb"
      },
      "outputs": [],
      "source": [
        "model.eval()\n",
        "with torch.no_grad():\n",
        "    outputs = model(input_ids, labels=input_ids)\n",
        "logits = outputs.logits\n",
        "# We take the probabilities of the last token (the one we want to predict)\n",
        "next_token_logits = logits[0, -1, :]\n",
        "probabilities = torch.softmax(next_token_logits, dim=-1)"
      ]
    },
    {
      "cell_type": "markdown",
      "metadata": {
        "id": "ueuZFFLPZtvb"
      },
      "source": [
        "For illustration, we show the probabilities assigned to the 10 most likely classes and the 10 less likely classes.\n",
        "\n",
        "The first plot is in linear scale, while the second plot is in log scale so that the smallest probabilities are visible.\n",
        "\n",
        "Note: Ġ indicates the start of a word."
      ]
    },
    {
      "cell_type": "code",
      "execution_count": 31,
      "metadata": {
        "colab": {
          "base_uri": "https://localhost:8080/",
          "height": 1000
        },
        "id": "g-x3vO7XZtvb",
        "outputId": "76ea306d-07cb-49ec-934e-d8c9973198ba"
      },
      "outputs": [
        {
          "data": {
            "image/png": "[encoded data removed]",
            "text/plain": [
              "<Figure size 360x432 with 1 Axes>"
            ]
          },
          "metadata": {
            "needs_background": "light"
          },
          "output_type": "display_data"
        },
        {
          "data": {
            "image/png": "[encoded data removed]",
            "text/plain": [
              "<Figure size 360x432 with 1 Axes>"
            ]
          },
          "metadata": {
            "needs_background": "light"
          },
          "output_type": "display_data"
        }
      ],
      "source": [
        "# We get the sorted probabilities and IDs\n",
        "tokens_probas, tokens_ids = probabilities.sort()\n",
        "# We select the top 10 and bottom 10 tokens\n",
        "tokens_ids = torch.cat([tokens_ids[:10], tokens_ids[-10:]])\n",
        "tokens_probas = torch.cat([tokens_probas[:10], tokens_probas[-10:]])\n",
        "# We convert the tokens indices to strings\n",
        "tokens = tokenizer.convert_ids_to_tokens(tokens_ids)\n",
        "# Horizontal bar plot, first with linear scale, then with log scale\n",
        "for log_scale in [False, True]:\n",
        "    fig, axis = plt.subplots(figsize=(5, 6))\n",
        "    axis.barh(tokens, tokens_probas, orientation='horizontal')\n",
        "    if log_scale:\n",
        "        axis.set_xscale('log')\n",
        "        axis.set_xlabel('Probability')\n",
        "    plt.show()"
      ]
    },
    {
      "cell_type": "markdown",
      "metadata": {
        "id": "pXoaCrqZZtvb"
      },
      "source": [
        "In the above example, we observe that there is high uncertainty on the next word in the sentence.\n",
        "\n",
        "Can you think of a sentence `input_text` for which there would be low uncertainty on the next word? Then, check that this is indeed the case."
      ]
    },
    {
      "cell_type": "code",
      "execution_count": 32,
      "metadata": {
        "id": "EJi1DkvmZtvb"
      },
      "outputs": [],
      "source": [
        "input_text = 'To be or not to' # By running the code with this value of `input_text`, we observe that the model puts a probability of almost 1 to the token \"be\"."
      ]
    },
    {
      "cell_type": "markdown",
      "metadata": {
        "id": "73dtR5nlZtvb"
      },
      "source": [
        "As in Section 1, we can create a categorical distribution of the next word and sample from it. Then, we can decode the token ID."
      ]
    },
    {
      "cell_type": "code",
      "execution_count": 33,
      "metadata": {
        "colab": {
          "base_uri": "https://localhost:8080/",
          "height": 35
        },
        "id": "-cXe9B5OZtvc",
        "outputId": "3cf4cec1-2756-41fd-bb5a-58edd32feed0"
      },
      "outputs": [
        {
          "data": {
            "text/plain": [
              "' vegetables'"
            ]
          },
          "execution_count": 33,
          "metadata": {},
          "output_type": "execute_result"
        }
      ],
      "source": [
        "dist = Categorical(probs=probabilities)\n",
        "next_token_id = dist.sample()\n",
        "tokenizer.decode(next_token_id)"
      ]
    },
    {
      "cell_type": "markdown",
      "metadata": {
        "id": "m07HZdJEZtvc"
      },
      "source": [
        "Finally, we generate a full sentence one word at a time using an auto-regressive sampling procedure.\n",
        "\n",
        "We use a more recent model for better results. Note that this model is still relatively small (1 billion parameters) compared to recent LLMs (e.g., 175 billion parameters for GPT-3).\n",
        "\n",
        "Can you display the probability of the sampled word at each step?"
      ]
    },
    {
      "cell_type": "code",
      "execution_count": 34,
      "metadata": {
        "colab": {
          "base_uri": "https://localhost:8080/",
          "height": 113,
          "referenced_widgets": [
            "a1a511791fd8418c997c3780b75eb183",
            "2675675a422f415f98190b8678f8a2dd",
            "2607da9c737144829dcd61d13838a5d0",
            "ed52e485047141699a8ccd890cf60e58",
            "9af3dad831124c85b81470dae8f5a3f1",
            "b91c86364ff841f49efef4bfbe20352f",
            "9bb78f883727470e981e935001224667",
            "cb82f29ccf19423c8d7d2c58c59a220f",
            "8c474540c49a42558b7dfc92a3576604",
            "8440feee01e54c51bc21aea05b2dd68d",
            "2675ab0c36fa463585c131ee6e8cba16",
            "e9eb20e13f28479eb2014e709ddcd476",
            "33accc0b455b4a9ebac1ebac9f343b3a",
            "89458caf165644fb84852a902813d653",
            "81fad4f4b2154b359656e6c514cc5f13",
            "554d701acbea44178ebe1ec25703c19c",
            "5df23f9b2a9f438292656f896f151a3d",
            "c651a5523b6841b3b0426f5319bca01b",
            "d545fc552ad4429c83a2899ee4925ef9",
            "cef2edb2512f401090bf74f728fb8b54",
            "c354ffd45569470ba358479ba27067de",
            "cd7ff16ed5c34e578ab8a25dc4092e69",
            "7eaa291c33d54b38a77e8096b93d86fb",
            "33ee7fd3614a47c88955b193673d2fd7",
            "2ccaaa30846e4896bb1eb457c6e6e395",
            "17652a2337784539ac3073b89c02de53",
            "850bf0de19d847b284676dd7b83c0792",
            "8d48094125844fb1aa60c089c893a7b2",
            "b0c5e9ee36404da1abfdbcd9ced07386",
            "18cec2260f6340918bc353aa0390b2c1",
            "ab0286c5ac2c4bb4a93702590fa240ee",
            "e1ef770ce7724bf292c5cd7f12a19f3f",
            "a21514beac8e4206be1bc4e33c2f30e8"
          ]
        },
        "id": "OAIhY_qdZtvc",
        "outputId": "ebb5b4ae-ce7b-48d7-b550-1e1cd9590844"
      },
      "outputs": [
        {
          "name": "stdout",
          "output_type": "stream",
          "text": [
            " they\n",
            " feel\n",
            " more\n",
            " natural\n",
            ".”\n",
            " —\n",
            "rish\n",
            "ag\n",
            "\n",
            "\n",
            "what\n",
            " is\n",
            " the\n",
            " impact\n",
            " with\n",
            " large\n",
            " language\n",
            " models\n",
            "?\n",
            "\n",
            "\n",
            "<\n"
          ]
        }
      ],
      "source": [
        "def generate_sentence_with_probabilities(model, tokenizer, initial_text, temperature=1., max_length=20):\n",
        "    input_ids = tokenizer.encode(initial_text, return_tensors='pt')\n",
        "    model.eval()\n",
        "\n",
        "    sentence = initial_text\n",
        "    token_probs = []\n",
        "\n",
        "    for _ in range(max_length):\n",
        "        with torch.no_grad():\n",
        "            outputs = model(input_ids)\n",
        "        logits = outputs.logits\n",
        "        # (Section 4): Implement the temperature here\n",
        "        logits = logits / temperature\n",
        "        next_token_logits = logits[0, -1, :]\n",
        "        probabilities = torch.softmax(next_token_logits, dim=-1)\n",
        "        # Choose the most probable next token\n",
        "        dist = Categorical(probs=probabilities)\n",
        "        next_token_id = dist.sample(torch.Size([1]))\n",
        "        # Or choose the most probable token\n",
        "        #next_token_id = probabilities.argmax().unsqueeze(0)\n",
        "        # Compute the probability of the chosen token\n",
        "        token_prob = probabilities[next_token_id].item()\n",
        "        token_probs.append(token_prob)\n",
        "        # Append the token to the input_ids\n",
        "        input_ids = torch.cat([input_ids, next_token_id.unsqueeze(0)], dim=1)\n",
        "        # Decode the token to append it to the sentence\n",
        "        next_word = tokenizer.decode(next_token_id)\n",
        "        print(f'{next_word}')\n",
        "\n",
        "        sentence += next_word\n",
        "        if next_word == tokenizer.eos_token:\n",
        "            break\n",
        "    return sentence, token_probs\n",
        "\n",
        "# Load pre-trained model and tokenizer\n",
        "model_name = \"llmware/bling-1b-0.1\"\n",
        "tokenizer = AutoTokenizer.from_pretrained(model_name)\n",
        "model = AutoModelForCausalLM.from_pretrained(model_name)\n",
        "\n",
        "# Generate a sentence\n",
        "initial_text = \"I like playing with large language models because\"\n",
        "\n",
        "sentence, token_probs = generate_sentence_with_probabilities(model, tokenizer, initial_text)"
      ]
    },
    {
      "cell_type": "code",
      "execution_count": 35,
      "metadata": {
        "id": "rkIlNC30Ztvc"
      },
      "outputs": [
        {
          "name": "stdout",
          "output_type": "stream",
          "text": [
            "Generated Sentence: I like playing with large language models because they feel more natural.” —rishag\n",
            "what is the impact with large language models?\n",
            "<\n",
            "Token Probabilities: [0.18659639358520508, 0.005601740442216396, 0.30760133266448975, 0.40364328026771545, 0.00762241892516613, 0.012021186761558056, 2.388838083788869e-06, 0.005829712375998497, 0.0029392861761152744, 0.5856303572654724, 0.6383587121963501, 0.8184642791748047, 0.0033460676204413176, 0.00635087164118886, 0.4566447138786316, 0.8620706796646118, 0.9846195578575134, 0.7653689980506897, 0.9817865490913391, 0.9991851449012756]\n"
          ]
        }
      ],
      "source": [
        "print(\"Generated Sentence:\", sentence)\n",
        "print(\"Token Probabilities:\", token_probs)"
      ]
    },
    {
      "cell_type": "markdown",
      "metadata": {
        "id": "Ywq1RZ61Ztvc"
      },
      "source": [
        "Can you modify the above code to predict the most probable word at each step instead of sampling from a categorical distribution?"
      ]
    },
    {
      "cell_type": "markdown",
      "metadata": {
        "id": "D-lpGMBRZtvc"
      },
      "source": [
        "## 4. Optional experiments"
      ]
    },
    {
      "cell_type": "markdown",
      "metadata": {
        "id": "ntOjeXohZtvc"
      },
      "source": [
        "We can increase or decrease the uncertainty of the model with a hyperparameter $t$ called the **temperature** which influences the level of creativity in the responses.\n",
        "\n",
        "In practice, we can implement this easily by dividing the logits by $t$: `logits = logits / t`.\n",
        "\n",
        "When set high, it produces more inventive and imaginative text. Conversely, a lower temperature yields responses that are more precise and factual. A temperature of 1 will have no effect.\n",
        "\n",
        "Modify the above code to a temperature parameter. Then, you can try very values of temperature such as `1e-5`, which will produce more factual outputs and `1.2`, which will produce more creative outputs."
      ]
    },
    {
      "cell_type": "code",
      "execution_count": 36,
      "metadata": {
        "id": "GnHVM95_Ztvc"
      },
      "outputs": [
        {
          "name": "stdout",
          "output_type": "stream",
          "text": [
            " it\n",
            " makes\n",
            " it\n",
            " easier\n",
            " to\n",
            " reason\n",
            " about\n",
            " the\n",
            " language\n",
            " model\n",
            ".\n",
            "  \n",
            "I\n",
            " like\n",
            " the\n",
            " fact\n",
            " that\n",
            " it\n",
            " is\n",
            " easy\n",
            "Generated Sentence: I like playing with large language models because it makes it easier to reason about the language model.  I like the fact that it is easy\n",
            "Token Probabilities: [1.0, 1.0, 1.0, 1.0, 1.0, 1.0, 1.0, 1.0, 1.0, 1.0, 1.0, 1.0, 1.0, 1.0, 1.0, 1.0, 1.0, 1.0, 1.0, 1.0]\n"
          ]
        }
      ],
      "source": [
        "sentence, token_probs = generate_sentence_with_probabilities(model, tokenizer, initial_text, temperature=1e-5)\n",
        "print(\"Generated Sentence:\", sentence)\n",
        "print(\"Token Probabilities:\", token_probs)"
      ]
    },
    {
      "cell_type": "code",
      "execution_count": 37,
      "metadata": {},
      "outputs": [
        {
          "name": "stdout",
          "output_type": "stream",
          "text": [
            " cutting\n",
            " language\n",
            " out\n",
            "can\n",
            " help\n",
            " improve\n",
            " the\n",
            " speed\n",
            " and\n",
            " perform\n",
            "anc\n",
            "et\n",
            "urns\n",
            " better\n",
            " in\n",
            " autore\n",
            "const\n",
            "ructions\n",
            "ense\n",
            "ansas\n",
            "Generated Sentence: I like playing with large language models because cutting language outcan help improve the speed and performanceturns better in autoreconstructionsenseansas\n",
            "Token Probabilities: [8.48950949148275e-05, 0.010613411664962769, 0.030410215258598328, 0.00027815671637654305, 0.02614886313676834, 0.016259633004665375, 0.07765103876590729, 0.031972821801900864, 0.13733230531215668, 0.0018998838495463133, 0.16472870111465454, 0.15012571215629578, 0.024479210376739502, 0.0035081140231341124, 0.03247549384832382, 1.1641000128292944e-05, 5.246569708106108e-05, 0.9337447881698608, 0.0010452362475916743, 4.515779892244609e-06]\n"
          ]
        }
      ],
      "source": [
        "sentence, token_probs = generate_sentence_with_probabilities(model, tokenizer, initial_text, temperature=1.2)\n",
        "print(\"Generated Sentence:\", sentence)\n",
        "print(\"Token Probabilities:\", token_probs)"
      ]
    },
    {
      "cell_type": "markdown",
      "metadata": {
        "id": "8ZkiG_3_Ztvc"
      },
      "source": [
        "Larger languages models require more GPU memory than what is available in Google Colab. If you have a GPU with sufficient memory, you can experiment with more recent LLMs such as Llama-2. These models are open-source at the condition of accepting license terms (see [here](https://huggingface.co/meta-llama/Llama-2-7b-chat-hf)).\n",
        "This process can take a few minutes to 2 days.\n",
        "You can then generate an authentication token [here](https://huggingface.co/settings/tokens) and run the command below with your authentication token."
      ]
    },
    {
      "cell_type": "code",
      "execution_count": null,
      "metadata": {
        "id": "Xjh_Eq1IZtvc"
      },
      "outputs": [],
      "source": [
        "!huggingface-cli login --token <YOUR_TOKEN>"
      ]
    },
    {
      "cell_type": "markdown",
      "metadata": {
        "id": "UxuRPbWTZtvc"
      },
      "source": [
        "The model can then be instantiated with this code in a similar way than the models from Section 3."
      ]
    },
    {
      "cell_type": "code",
      "execution_count": 39,
      "metadata": {
        "id": "C3sQz-cXZtvc"
      },
      "outputs": [
        {
          "data": {
            "application/vnd.jupyter.widget-view+json": {
              "model_id": "8c3daa39a4034734a309856d1a54dd44",
              "version_major": 2,
              "version_minor": 0
            },
            "text/plain": [
              "Loading checkpoint shards:   0%|          | 0/2 [00:00<?, ?it/s]"
            ]
          },
          "metadata": {},
          "output_type": "display_data"
        },
        {
          "name": "stderr",
          "output_type": "stream",
          "text": [
            "normalizer.cc(51) LOG(INFO) precompiled_charsmap is empty. use identity normalization.\n"
          ]
        }
      ],
      "source": [
        "from transformers import LlamaTokenizer, LlamaForCausalLM\n",
        "\n",
        "model_name = \"meta-llama/Llama-2-7b-chat-hf\"\n",
        "model = LlamaForCausalLM.from_pretrained(model_name)\n",
        "tokenizer = LlamaTokenizer.from_pretrained(model_name)"
      ]
    },
    {
      "cell_type": "code",
      "execution_count": 41,
      "metadata": {
        "id": "wYAYl6HqZtvc"
      },
      "outputs": [
        {
          "name": "stdout",
          "output_type": "stream",
          "text": [
            "you\n",
            "can\n",
            "have\n",
            "a\n",
            "lot\n",
            "of\n",
            "fun\n",
            "with\n",
            "them\n",
            ".\n",
            "Here\n",
            "are\n",
            "some\n",
            "ideas\n",
            ".\n",
            "\n",
            "\n",
            "\n",
            "\n",
            "1\n",
            ".\n",
            "Ask\n"
          ]
        }
      ],
      "source": [
        "sentence, token_probs = generate_sentence_with_probabilities(model, tokenizer, initial_text)"
      ]
    }
  ],
  "metadata": {
    "colab": {
      "provenance": []
    },
    "kernelspec": {
      "display_name": "Python 3 (ipykernel)",
      "language": "python",
      "name": "python3"
    },
    "language_info": {
      "codemirror_mode": {
        "name": "ipython",
        "version": 3
      },
      "file_extension": ".py",
      "mimetype": "text/x-python",
      "name": "python",
      "nbconvert_exporter": "python",
      "pygments_lexer": "ipython3",
      "version": "3.9.16"
    },
    "widgets": {
      "application/vnd.jupyter.widget-state+json": {
        "00f021faa8164c169aa3f9aae12013c0": {
          "model_module": "@jupyter-widgets/controls",
          "model_module_version": "1.5.0",
          "model_name": "HTMLModel",
          "state": {
            "_dom_classes": [],
            "_model_module": "@jupyter-widgets/controls",
            "_model_module_version": "1.5.0",
            "_model_name": "HTMLModel",
            "_view_count": null,
            "_view_module": "@jupyter-widgets/controls",
            "_view_module_version": "1.5.0",
            "_view_name": "HTMLView",
            "description": "",
            "description_tooltip": null,
            "layout": "IPY_MODEL_cfb062f84c99417caa4923dce11fdde9",
            "placeholder": "​",
            "style": "IPY_MODEL_64a9414f8b564eccb1eb8b964acbf024",
            "value": "tokenizer.json: 100%"
          }
        },
        "0401b837de6442ad9d5a1c02a16ab43b": {
          "model_module": "@jupyter-widgets/base",
          "model_module_version": "1.2.0",
          "model_name": "LayoutModel",
          "state": {
            "_model_module": "@jupyter-widgets/base",
            "_model_module_version": "1.2.0",
            "_model_name": "LayoutModel",
            "_view_count": null,
            "_view_module": "@jupyter-widgets/base",
            "_view_module_version": "1.2.0",
            "_view_name": "LayoutView",
            "align_content": null,
            "align_items": null,
            "align_self": null,
            "border": null,
            "bottom": null,
            "display": null,
            "flex": null,
            "flex_flow": null,
            "grid_area": null,
            "grid_auto_columns": null,
            "grid_auto_flow": null,
            "grid_auto_rows": null,
            "grid_column": null,
            "grid_gap": null,
            "grid_row": null,
            "grid_template_areas": null,
            "grid_template_columns": null,
            "grid_template_rows": null,
            "height": null,
            "justify_content": null,
            "justify_items": null,
            "left": null,
            "margin": null,
            "max_height": null,
            "max_width": null,
            "min_height": null,
            "min_width": null,
            "object_fit": null,
            "object_position": null,
            "order": null,
            "overflow": null,
            "overflow_x": null,
            "overflow_y": null,
            "padding": null,
            "right": null,
            "top": null,
            "visibility": null,
            "width": null
          }
        },
        "1172706660fe43ec8186182c49e3b43b": {
          "model_module": "@jupyter-widgets/controls",
          "model_module_version": "1.5.0",
          "model_name": "FloatProgressModel",
          "state": {
            "_dom_classes": [],
            "_model_module": "@jupyter-widgets/controls",
            "_model_module_version": "1.5.0",
            "_model_name": "FloatProgressModel",
            "_view_count": null,
            "_view_module": "@jupyter-widgets/controls",
            "_view_module_version": "1.5.0",
            "_view_name": "ProgressView",
            "bar_style": "success",
            "description": "",
            "description_tooltip": null,
            "layout": "IPY_MODEL_5bd395992e664685938395045933420c",
            "max": 124,
            "min": 0,
            "orientation": "horizontal",
            "style": "IPY_MODEL_4ab982d86bd44d63b92109fe08ba1513",
            "value": 124
          }
        },
        "139327fd3b454024ad64e194af7ed31c": {
          "model_module": "@jupyter-widgets/base",
          "model_module_version": "1.2.0",
          "model_name": "LayoutModel",
          "state": {
            "_model_module": "@jupyter-widgets/base",
            "_model_module_version": "1.2.0",
            "_model_name": "LayoutModel",
            "_view_count": null,
            "_view_module": "@jupyter-widgets/base",
            "_view_module_version": "1.2.0",
            "_view_name": "LayoutView",
            "align_content": null,
            "align_items": null,
            "align_self": null,
            "border": null,
            "bottom": null,
            "display": null,
            "flex": null,
            "flex_flow": null,
            "grid_area": null,
            "grid_auto_columns": null,
            "grid_auto_flow": null,
            "grid_auto_rows": null,
            "grid_column": null,
            "grid_gap": null,
            "grid_row": null,
            "grid_template_areas": null,
            "grid_template_columns": null,
            "grid_template_rows": null,
            "height": null,
            "justify_content": null,
            "justify_items": null,
            "left": null,
            "margin": null,
            "max_height": null,
            "max_width": null,
            "min_height": null,
            "min_width": null,
            "object_fit": null,
            "object_position": null,
            "order": null,
            "overflow": null,
            "overflow_x": null,
            "overflow_y": null,
            "padding": null,
            "right": null,
            "top": null,
            "visibility": null,
            "width": null
          }
        },
        "13c66410b42a4e71898f1744c70235d8": {
          "model_module": "@jupyter-widgets/base",
          "model_module_version": "1.2.0",
          "model_name": "LayoutModel",
          "state": {
            "_model_module": "@jupyter-widgets/base",
            "_model_module_version": "1.2.0",
            "_model_name": "LayoutModel",
            "_view_count": null,
            "_view_module": "@jupyter-widgets/base",
            "_view_module_version": "1.2.0",
            "_view_name": "LayoutView",
            "align_content": null,
            "align_items": null,
            "align_self": null,
            "border": null,
            "bottom": null,
            "display": null,
            "flex": null,
            "flex_flow": null,
            "grid_area": null,
            "grid_auto_columns": null,
            "grid_auto_flow": null,
            "grid_auto_rows": null,
            "grid_column": null,
            "grid_gap": null,
            "grid_row": null,
            "grid_template_areas": null,
            "grid_template_columns": null,
            "grid_template_rows": null,
            "height": null,
            "justify_content": null,
            "justify_items": null,
            "left": null,
            "margin": null,
            "max_height": null,
            "max_width": null,
            "min_height": null,
            "min_width": null,
            "object_fit": null,
            "object_position": null,
            "order": null,
            "overflow": null,
            "overflow_x": null,
            "overflow_y": null,
            "padding": null,
            "right": null,
            "top": null,
            "visibility": null,
            "width": null
          }
        },
        "17652a2337784539ac3073b89c02de53": {
          "model_module": "@jupyter-widgets/controls",
          "model_module_version": "1.5.0",
          "model_name": "HTMLModel",
          "state": {
            "_dom_classes": [],
            "_model_module": "@jupyter-widgets/controls",
            "_model_module_version": "1.5.0",
            "_model_name": "HTMLModel",
            "_view_count": null,
            "_view_module": "@jupyter-widgets/controls",
            "_view_module_version": "1.5.0",
            "_view_name": "HTMLView",
            "description": "",
            "description_tooltip": null,
            "layout": "IPY_MODEL_e1ef770ce7724bf292c5cd7f12a19f3f",
            "placeholder": "​",
            "style": "IPY_MODEL_a21514beac8e4206be1bc4e33c2f30e8",
            "value": " 2.57G/4.11G [00:56&lt;00:28, 53.9MB/s]"
          }
        },
        "18cec2260f6340918bc353aa0390b2c1": {
          "model_module": "@jupyter-widgets/base",
          "model_module_version": "1.2.0",
          "model_name": "LayoutModel",
          "state": {
            "_model_module": "@jupyter-widgets/base",
            "_model_module_version": "1.2.0",
            "_model_name": "LayoutModel",
            "_view_count": null,
            "_view_module": "@jupyter-widgets/base",
            "_view_module_version": "1.2.0",
            "_view_name": "LayoutView",
            "align_content": null,
            "align_items": null,
            "align_self": null,
            "border": null,
            "bottom": null,
            "display": null,
            "flex": null,
            "flex_flow": null,
            "grid_area": null,
            "grid_auto_columns": null,
            "grid_auto_flow": null,
            "grid_auto_rows": null,
            "grid_column": null,
            "grid_gap": null,
            "grid_row": null,
            "grid_template_areas": null,
            "grid_template_columns": null,
            "grid_template_rows": null,
            "height": null,
            "justify_content": null,
            "justify_items": null,
            "left": null,
            "margin": null,
            "max_height": null,
            "max_width": null,
            "min_height": null,
            "min_width": null,
            "object_fit": null,
            "object_position": null,
            "order": null,
            "overflow": null,
            "overflow_x": null,
            "overflow_y": null,
            "padding": null,
            "right": null,
            "top": null,
            "visibility": null,
            "width": null
          }
        },
        "1fb1e96074014bdc890936fd8087999b": {
          "model_module": "@jupyter-widgets/controls",
          "model_module_version": "1.5.0",
          "model_name": "DescriptionStyleModel",
          "state": {
            "_model_module": "@jupyter-widgets/controls",
            "_model_module_version": "1.5.0",
            "_model_name": "DescriptionStyleModel",
            "_view_count": null,
            "_view_module": "@jupyter-widgets/base",
            "_view_module_version": "1.2.0",
            "_view_name": "StyleView",
            "description_width": ""
          }
        },
        "222929fba0fa48b580a0326c6a95a14d": {
          "model_module": "@jupyter-widgets/base",
          "model_module_version": "1.2.0",
          "model_name": "LayoutModel",
          "state": {
            "_model_module": "@jupyter-widgets/base",
            "_model_module_version": "1.2.0",
            "_model_name": "LayoutModel",
            "_view_count": null,
            "_view_module": "@jupyter-widgets/base",
            "_view_module_version": "1.2.0",
            "_view_name": "LayoutView",
            "align_content": null,
            "align_items": null,
            "align_self": null,
            "border": null,
            "bottom": null,
            "display": null,
            "flex": null,
            "flex_flow": null,
            "grid_area": null,
            "grid_auto_columns": null,
            "grid_auto_flow": null,
            "grid_auto_rows": null,
            "grid_column": null,
            "grid_gap": null,
            "grid_row": null,
            "grid_template_areas": null,
            "grid_template_columns": null,
            "grid_template_rows": null,
            "height": null,
            "justify_content": null,
            "justify_items": null,
            "left": null,
            "margin": null,
            "max_height": null,
            "max_width": null,
            "min_height": null,
            "min_width": null,
            "object_fit": null,
            "object_position": null,
            "order": null,
            "overflow": null,
            "overflow_x": null,
            "overflow_y": null,
            "padding": null,
            "right": null,
            "top": null,
            "visibility": null,
            "width": null
          }
        },
        "2313567f90164ef7b364ced4547588d2": {
          "model_module": "@jupyter-widgets/controls",
          "model_module_version": "1.5.0",
          "model_name": "HTMLModel",
          "state": {
            "_dom_classes": [],
            "_model_module": "@jupyter-widgets/controls",
            "_model_module_version": "1.5.0",
            "_model_name": "HTMLModel",
            "_view_count": null,
            "_view_module": "@jupyter-widgets/controls",
            "_view_module_version": "1.5.0",
            "_view_name": "HTMLView",
            "description": "",
            "description_tooltip": null,
            "layout": "IPY_MODEL_13c66410b42a4e71898f1744c70235d8",
            "placeholder": "​",
            "style": "IPY_MODEL_fffe094ee0b6435a8cbd23925bbc9bd6",
            "value": "generation_config.json: 100%"
          }
        },
        "254440e01b244b57bb3d8a8a76f85253": {
          "model_module": "@jupyter-widgets/controls",
          "model_module_version": "1.5.0",
          "model_name": "HTMLModel",
          "state": {
            "_dom_classes": [],
            "_model_module": "@jupyter-widgets/controls",
            "_model_module_version": "1.5.0",
            "_model_name": "HTMLModel",
            "_view_count": null,
            "_view_module": "@jupyter-widgets/controls",
            "_view_module_version": "1.5.0",
            "_view_name": "HTMLView",
            "description": "",
            "description_tooltip": null,
            "layout": "IPY_MODEL_f9c8ee5486474a15bb19a1e22a6f9474",
            "placeholder": "​",
            "style": "IPY_MODEL_7c711ad5c8e04d20ba74233122940aa9",
            "value": " 666/666 [00:00&lt;00:00, 8.91kB/s]"
          }
        },
        "2607da9c737144829dcd61d13838a5d0": {
          "model_module": "@jupyter-widgets/controls",
          "model_module_version": "1.5.0",
          "model_name": "FloatProgressModel",
          "state": {
            "_dom_classes": [],
            "_model_module": "@jupyter-widgets/controls",
            "_model_module_version": "1.5.0",
            "_model_name": "FloatProgressModel",
            "_view_count": null,
            "_view_module": "@jupyter-widgets/controls",
            "_view_module_version": "1.5.0",
            "_view_name": "ProgressView",
            "bar_style": "success",
            "description": "",
            "description_tooltip": null,
            "layout": "IPY_MODEL_cb82f29ccf19423c8d7d2c58c59a220f",
            "max": 2270,
            "min": 0,
            "orientation": "horizontal",
            "style": "IPY_MODEL_8c474540c49a42558b7dfc92a3576604",
            "value": 2270
          }
        },
        "2675675a422f415f98190b8678f8a2dd": {
          "model_module": "@jupyter-widgets/controls",
          "model_module_version": "1.5.0",
          "model_name": "HTMLModel",
          "state": {
            "_dom_classes": [],
            "_model_module": "@jupyter-widgets/controls",
            "_model_module_version": "1.5.0",
            "_model_name": "HTMLModel",
            "_view_count": null,
            "_view_module": "@jupyter-widgets/controls",
            "_view_module_version": "1.5.0",
            "_view_name": "HTMLView",
            "description": "",
            "description_tooltip": null,
            "layout": "IPY_MODEL_b91c86364ff841f49efef4bfbe20352f",
            "placeholder": "​",
            "style": "IPY_MODEL_9bb78f883727470e981e935001224667",
            "value": "config.json: 100%"
          }
        },
        "2675ab0c36fa463585c131ee6e8cba16": {
          "model_module": "@jupyter-widgets/controls",
          "model_module_version": "1.5.0",
          "model_name": "DescriptionStyleModel",
          "state": {
            "_model_module": "@jupyter-widgets/controls",
            "_model_module_version": "1.5.0",
            "_model_name": "DescriptionStyleModel",
            "_view_count": null,
            "_view_module": "@jupyter-widgets/base",
            "_view_module_version": "1.2.0",
            "_view_name": "StyleView",
            "description_width": ""
          }
        },
        "28772f5ab167497dbf05182aae694e1d": {
          "model_module": "@jupyter-widgets/controls",
          "model_module_version": "1.5.0",
          "model_name": "DescriptionStyleModel",
          "state": {
            "_model_module": "@jupyter-widgets/controls",
            "_model_module_version": "1.5.0",
            "_model_name": "DescriptionStyleModel",
            "_view_count": null,
            "_view_module": "@jupyter-widgets/base",
            "_view_module_version": "1.2.0",
            "_view_name": "StyleView",
            "description_width": ""
          }
        },
        "2be0e75e3e23484da70139a9f0a3ab67": {
          "model_module": "@jupyter-widgets/base",
          "model_module_version": "1.2.0",
          "model_name": "LayoutModel",
          "state": {
            "_model_module": "@jupyter-widgets/base",
            "_model_module_version": "1.2.0",
            "_model_name": "LayoutModel",
            "_view_count": null,
            "_view_module": "@jupyter-widgets/base",
            "_view_module_version": "1.2.0",
            "_view_name": "LayoutView",
            "align_content": null,
            "align_items": null,
            "align_self": null,
            "border": null,
            "bottom": null,
            "display": null,
            "flex": null,
            "flex_flow": null,
            "grid_area": null,
            "grid_auto_columns": null,
            "grid_auto_flow": null,
            "grid_auto_rows": null,
            "grid_column": null,
            "grid_gap": null,
            "grid_row": null,
            "grid_template_areas": null,
            "grid_template_columns": null,
            "grid_template_rows": null,
            "height": null,
            "justify_content": null,
            "justify_items": null,
            "left": null,
            "margin": null,
            "max_height": null,
            "max_width": null,
            "min_height": null,
            "min_width": null,
            "object_fit": null,
            "object_position": null,
            "order": null,
            "overflow": null,
            "overflow_x": null,
            "overflow_y": null,
            "padding": null,
            "right": null,
            "top": null,
            "visibility": null,
            "width": null
          }
        },
        "2ccaaa30846e4896bb1eb457c6e6e395": {
          "model_module": "@jupyter-widgets/controls",
          "model_module_version": "1.5.0",
          "model_name": "FloatProgressModel",
          "state": {
            "_dom_classes": [],
            "_model_module": "@jupyter-widgets/controls",
            "_model_module_version": "1.5.0",
            "_model_name": "FloatProgressModel",
            "_view_count": null,
            "_view_module": "@jupyter-widgets/controls",
            "_view_module_version": "1.5.0",
            "_view_name": "ProgressView",
            "bar_style": "",
            "description": "",
            "description_tooltip": null,
            "layout": "IPY_MODEL_18cec2260f6340918bc353aa0390b2c1",
            "max": 4114329821,
            "min": 0,
            "orientation": "horizontal",
            "style": "IPY_MODEL_ab0286c5ac2c4bb4a93702590fa240ee",
            "value": 2579496960
          }
        },
        "2db51fb160cf406da57f1399feaa49ee": {
          "model_module": "@jupyter-widgets/controls",
          "model_module_version": "1.5.0",
          "model_name": "DescriptionStyleModel",
          "state": {
            "_model_module": "@jupyter-widgets/controls",
            "_model_module_version": "1.5.0",
            "_model_name": "DescriptionStyleModel",
            "_view_count": null,
            "_view_module": "@jupyter-widgets/base",
            "_view_module_version": "1.2.0",
            "_view_name": "StyleView",
            "description_width": ""
          }
        },
        "3200dfc142ce4242b0f844842351d287": {
          "model_module": "@jupyter-widgets/base",
          "model_module_version": "1.2.0",
          "model_name": "LayoutModel",
          "state": {
            "_model_module": "@jupyter-widgets/base",
            "_model_module_version": "1.2.0",
            "_model_name": "LayoutModel",
            "_view_count": null,
            "_view_module": "@jupyter-widgets/base",
            "_view_module_version": "1.2.0",
            "_view_name": "LayoutView",
            "align_content": null,
            "align_items": null,
            "align_self": null,
            "border": null,
            "bottom": null,
            "display": null,
            "flex": null,
            "flex_flow": null,
            "grid_area": null,
            "grid_auto_columns": null,
            "grid_auto_flow": null,
            "grid_auto_rows": null,
            "grid_column": null,
            "grid_gap": null,
            "grid_row": null,
            "grid_template_areas": null,
            "grid_template_columns": null,
            "grid_template_rows": null,
            "height": null,
            "justify_content": null,
            "justify_items": null,
            "left": null,
            "margin": null,
            "max_height": null,
            "max_width": null,
            "min_height": null,
            "min_width": null,
            "object_fit": null,
            "object_position": null,
            "order": null,
            "overflow": null,
            "overflow_x": null,
            "overflow_y": null,
            "padding": null,
            "right": null,
            "top": null,
            "visibility": null,
            "width": null
          }
        },
        "3255b6cf0e6d4c87bf18cbbdc135ba43": {
          "model_module": "@jupyter-widgets/controls",
          "model_module_version": "1.5.0",
          "model_name": "HTMLModel",
          "state": {
            "_dom_classes": [],
            "_model_module": "@jupyter-widgets/controls",
            "_model_module_version": "1.5.0",
            "_model_name": "HTMLModel",
            "_view_count": null,
            "_view_module": "@jupyter-widgets/controls",
            "_view_module_version": "1.5.0",
            "_view_name": "HTMLView",
            "description": "",
            "description_tooltip": null,
            "layout": "IPY_MODEL_222929fba0fa48b580a0326c6a95a14d",
            "placeholder": "​",
            "style": "IPY_MODEL_2db51fb160cf406da57f1399feaa49ee",
            "value": "vocab.json: 100%"
          }
        },
        "33aaca0d238f491aa7806ce2a842c8b6": {
          "model_module": "@jupyter-widgets/base",
          "model_module_version": "1.2.0",
          "model_name": "LayoutModel",
          "state": {
            "_model_module": "@jupyter-widgets/base",
            "_model_module_version": "1.2.0",
            "_model_name": "LayoutModel",
            "_view_count": null,
            "_view_module": "@jupyter-widgets/base",
            "_view_module_version": "1.2.0",
            "_view_name": "LayoutView",
            "align_content": null,
            "align_items": null,
            "align_self": null,
            "border": null,
            "bottom": null,
            "display": null,
            "flex": null,
            "flex_flow": null,
            "grid_area": null,
            "grid_auto_columns": null,
            "grid_auto_flow": null,
            "grid_auto_rows": null,
            "grid_column": null,
            "grid_gap": null,
            "grid_row": null,
            "grid_template_areas": null,
            "grid_template_columns": null,
            "grid_template_rows": null,
            "height": null,
            "justify_content": null,
            "justify_items": null,
            "left": null,
            "margin": null,
            "max_height": null,
            "max_width": null,
            "min_height": null,
            "min_width": null,
            "object_fit": null,
            "object_position": null,
            "order": null,
            "overflow": null,
            "overflow_x": null,
            "overflow_y": null,
            "padding": null,
            "right": null,
            "top": null,
            "visibility": null,
            "width": null
          }
        },
        "33accc0b455b4a9ebac1ebac9f343b3a": {
          "model_module": "@jupyter-widgets/controls",
          "model_module_version": "1.5.0",
          "model_name": "HTMLModel",
          "state": {
            "_dom_classes": [],
            "_model_module": "@jupyter-widgets/controls",
            "_model_module_version": "1.5.0",
            "_model_name": "HTMLModel",
            "_view_count": null,
            "_view_module": "@jupyter-widgets/controls",
            "_view_module_version": "1.5.0",
            "_view_name": "HTMLView",
            "description": "",
            "description_tooltip": null,
            "layout": "IPY_MODEL_5df23f9b2a9f438292656f896f151a3d",
            "placeholder": "​",
            "style": "IPY_MODEL_c651a5523b6841b3b0426f5319bca01b",
            "value": "tokenizer.json: 100%"
          }
        },
        "33ee7fd3614a47c88955b193673d2fd7": {
          "model_module": "@jupyter-widgets/controls",
          "model_module_version": "1.5.0",
          "model_name": "HTMLModel",
          "state": {
            "_dom_classes": [],
            "_model_module": "@jupyter-widgets/controls",
            "_model_module_version": "1.5.0",
            "_model_name": "HTMLModel",
            "_view_count": null,
            "_view_module": "@jupyter-widgets/controls",
            "_view_module_version": "1.5.0",
            "_view_name": "HTMLView",
            "description": "",
            "description_tooltip": null,
            "layout": "IPY_MODEL_8d48094125844fb1aa60c089c893a7b2",
            "placeholder": "​",
            "style": "IPY_MODEL_b0c5e9ee36404da1abfdbcd9ced07386",
            "value": "pytorch_model.bin:  62%"
          }
        },
        "380cb045aef541dbb84235098d234609": {
          "model_module": "@jupyter-widgets/controls",
          "model_module_version": "1.5.0",
          "model_name": "FloatProgressModel",
          "state": {
            "_dom_classes": [],
            "_model_module": "@jupyter-widgets/controls",
            "_model_module_version": "1.5.0",
            "_model_name": "FloatProgressModel",
            "_view_count": null,
            "_view_module": "@jupyter-widgets/controls",
            "_view_module_version": "1.5.0",
            "_view_name": "ProgressView",
            "bar_style": "success",
            "description": "",
            "description_tooltip": null,
            "layout": "IPY_MODEL_48c339a663c2466bb82e3478d7d2d1a1",
            "max": 1355256,
            "min": 0,
            "orientation": "horizontal",
            "style": "IPY_MODEL_bf88e61ea80841b1a972feb9944995dc",
            "value": 1355256
          }
        },
        "4003e3f1e7944009b47cc30c3e35f570": {
          "model_module": "@jupyter-widgets/controls",
          "model_module_version": "1.5.0",
          "model_name": "HBoxModel",
          "state": {
            "_dom_classes": [],
            "_model_module": "@jupyter-widgets/controls",
            "_model_module_version": "1.5.0",
            "_model_name": "HBoxModel",
            "_view_count": null,
            "_view_module": "@jupyter-widgets/controls",
            "_view_module_version": "1.5.0",
            "_view_name": "HBoxView",
            "box_style": "",
            "children": [
              "IPY_MODEL_00f021faa8164c169aa3f9aae12013c0",
              "IPY_MODEL_380cb045aef541dbb84235098d234609",
              "IPY_MODEL_4205da8411354e9fa126d7d82127fa52"
            ],
            "layout": "IPY_MODEL_fcbdc507651d48ff9bd858e0bf15c94f"
          }
        },
        "40e590d12f944b6cbde7a923d4a49759": {
          "model_module": "@jupyter-widgets/base",
          "model_module_version": "1.2.0",
          "model_name": "LayoutModel",
          "state": {
            "_model_module": "@jupyter-widgets/base",
            "_model_module_version": "1.2.0",
            "_model_name": "LayoutModel",
            "_view_count": null,
            "_view_module": "@jupyter-widgets/base",
            "_view_module_version": "1.2.0",
            "_view_name": "LayoutView",
            "align_content": null,
            "align_items": null,
            "align_self": null,
            "border": null,
            "bottom": null,
            "display": null,
            "flex": null,
            "flex_flow": null,
            "grid_area": null,
            "grid_auto_columns": null,
            "grid_auto_flow": null,
            "grid_auto_rows": null,
            "grid_column": null,
            "grid_gap": null,
            "grid_row": null,
            "grid_template_areas": null,
            "grid_template_columns": null,
            "grid_template_rows": null,
            "height": null,
            "justify_content": null,
            "justify_items": null,
            "left": null,
            "margin": null,
            "max_height": null,
            "max_width": null,
            "min_height": null,
            "min_width": null,
            "object_fit": null,
            "object_position": null,
            "order": null,
            "overflow": null,
            "overflow_x": null,
            "overflow_y": null,
            "padding": null,
            "right": null,
            "top": null,
            "visibility": null,
            "width": null
          }
        },
        "4205da8411354e9fa126d7d82127fa52": {
          "model_module": "@jupyter-widgets/controls",
          "model_module_version": "1.5.0",
          "model_name": "HTMLModel",
          "state": {
            "_dom_classes": [],
            "_model_module": "@jupyter-widgets/controls",
            "_model_module_version": "1.5.0",
            "_model_name": "HTMLModel",
            "_view_count": null,
            "_view_module": "@jupyter-widgets/controls",
            "_view_module_version": "1.5.0",
            "_view_name": "HTMLView",
            "description": "",
            "description_tooltip": null,
            "layout": "IPY_MODEL_139327fd3b454024ad64e194af7ed31c",
            "placeholder": "​",
            "style": "IPY_MODEL_1fb1e96074014bdc890936fd8087999b",
            "value": " 1.36M/1.36M [00:00&lt;00:00, 7.27MB/s]"
          }
        },
        "4242a002e2eb4cbea4ab4268496860eb": {
          "model_module": "@jupyter-widgets/controls",
          "model_module_version": "1.5.0",
          "model_name": "HTMLModel",
          "state": {
            "_dom_classes": [],
            "_model_module": "@jupyter-widgets/controls",
            "_model_module_version": "1.5.0",
            "_model_name": "HTMLModel",
            "_view_count": null,
            "_view_module": "@jupyter-widgets/controls",
            "_view_module_version": "1.5.0",
            "_view_name": "HTMLView",
            "description": "",
            "description_tooltip": null,
            "layout": "IPY_MODEL_9a279ca8089a44c7ada285026b09f2b3",
            "placeholder": "​",
            "style": "IPY_MODEL_28772f5ab167497dbf05182aae694e1d",
            "value": "merges.txt: 100%"
          }
        },
        "48c339a663c2466bb82e3478d7d2d1a1": {
          "model_module": "@jupyter-widgets/base",
          "model_module_version": "1.2.0",
          "model_name": "LayoutModel",
          "state": {
            "_model_module": "@jupyter-widgets/base",
            "_model_module_version": "1.2.0",
            "_model_name": "LayoutModel",
            "_view_count": null,
            "_view_module": "@jupyter-widgets/base",
            "_view_module_version": "1.2.0",
            "_view_name": "LayoutView",
            "align_content": null,
            "align_items": null,
            "align_self": null,
            "border": null,
            "bottom": null,
            "display": null,
            "flex": null,
            "flex_flow": null,
            "grid_area": null,
            "grid_auto_columns": null,
            "grid_auto_flow": null,
            "grid_auto_rows": null,
            "grid_column": null,
            "grid_gap": null,
            "grid_row": null,
            "grid_template_areas": null,
            "grid_template_columns": null,
            "grid_template_rows": null,
            "height": null,
            "justify_content": null,
            "justify_items": null,
            "left": null,
            "margin": null,
            "max_height": null,
            "max_width": null,
            "min_height": null,
            "min_width": null,
            "object_fit": null,
            "object_position": null,
            "order": null,
            "overflow": null,
            "overflow_x": null,
            "overflow_y": null,
            "padding": null,
            "right": null,
            "top": null,
            "visibility": null,
            "width": null
          }
        },
        "4ab982d86bd44d63b92109fe08ba1513": {
          "model_module": "@jupyter-widgets/controls",
          "model_module_version": "1.5.0",
          "model_name": "ProgressStyleModel",
          "state": {
            "_model_module": "@jupyter-widgets/controls",
            "_model_module_version": "1.5.0",
            "_model_name": "ProgressStyleModel",
            "_view_count": null,
            "_view_module": "@jupyter-widgets/base",
            "_view_module_version": "1.2.0",
            "_view_name": "StyleView",
            "bar_color": null,
            "description_width": ""
          }
        },
        "4bf96c6c4fe943408b70405d4163a1ea": {
          "model_module": "@jupyter-widgets/controls",
          "model_module_version": "1.5.0",
          "model_name": "HBoxModel",
          "state": {
            "_dom_classes": [],
            "_model_module": "@jupyter-widgets/controls",
            "_model_module_version": "1.5.0",
            "_model_name": "HBoxModel",
            "_view_count": null,
            "_view_module": "@jupyter-widgets/controls",
            "_view_module_version": "1.5.0",
            "_view_name": "HBoxView",
            "box_style": "",
            "children": [
              "IPY_MODEL_4242a002e2eb4cbea4ab4268496860eb",
              "IPY_MODEL_8b1d9898770947859915240da20fa482",
              "IPY_MODEL_571fab504cba4b4d8eee6f9a6e357896"
            ],
            "layout": "IPY_MODEL_d0cec55784fa40b083990cd25dbbf15d"
          }
        },
        "516effef8aaa4e10b45be0c6d5015a66": {
          "model_module": "@jupyter-widgets/base",
          "model_module_version": "1.2.0",
          "model_name": "LayoutModel",
          "state": {
            "_model_module": "@jupyter-widgets/base",
            "_model_module_version": "1.2.0",
            "_model_name": "LayoutModel",
            "_view_count": null,
            "_view_module": "@jupyter-widgets/base",
            "_view_module_version": "1.2.0",
            "_view_name": "LayoutView",
            "align_content": null,
            "align_items": null,
            "align_self": null,
            "border": null,
            "bottom": null,
            "display": null,
            "flex": null,
            "flex_flow": null,
            "grid_area": null,
            "grid_auto_columns": null,
            "grid_auto_flow": null,
            "grid_auto_rows": null,
            "grid_column": null,
            "grid_gap": null,
            "grid_row": null,
            "grid_template_areas": null,
            "grid_template_columns": null,
            "grid_template_rows": null,
            "height": null,
            "justify_content": null,
            "justify_items": null,
            "left": null,
            "margin": null,
            "max_height": null,
            "max_width": null,
            "min_height": null,
            "min_width": null,
            "object_fit": null,
            "object_position": null,
            "order": null,
            "overflow": null,
            "overflow_x": null,
            "overflow_y": null,
            "padding": null,
            "right": null,
            "top": null,
            "visibility": null,
            "width": null
          }
        },
        "5288cd89c56b46beacf9637d2ce62c6a": {
          "model_module": "@jupyter-widgets/controls",
          "model_module_version": "1.5.0",
          "model_name": "DescriptionStyleModel",
          "state": {
            "_model_module": "@jupyter-widgets/controls",
            "_model_module_version": "1.5.0",
            "_model_name": "DescriptionStyleModel",
            "_view_count": null,
            "_view_module": "@jupyter-widgets/base",
            "_view_module_version": "1.2.0",
            "_view_name": "StyleView",
            "description_width": ""
          }
        },
        "54db713552844e0e94db30950f52ade4": {
          "model_module": "@jupyter-widgets/controls",
          "model_module_version": "1.5.0",
          "model_name": "HTMLModel",
          "state": {
            "_dom_classes": [],
            "_model_module": "@jupyter-widgets/controls",
            "_model_module_version": "1.5.0",
            "_model_name": "HTMLModel",
            "_view_count": null,
            "_view_module": "@jupyter-widgets/controls",
            "_view_module_version": "1.5.0",
            "_view_name": "HTMLView",
            "description": "",
            "description_tooltip": null,
            "layout": "IPY_MODEL_b3edfd11d1fa4cf1808ec246c8955450",
            "placeholder": "​",
            "style": "IPY_MODEL_5288cd89c56b46beacf9637d2ce62c6a",
            "value": " 124/124 [00:00&lt;00:00, 6.80kB/s]"
          }
        },
        "554d701acbea44178ebe1ec25703c19c": {
          "model_module": "@jupyter-widgets/base",
          "model_module_version": "1.2.0",
          "model_name": "LayoutModel",
          "state": {
            "_model_module": "@jupyter-widgets/base",
            "_model_module_version": "1.2.0",
            "_model_name": "LayoutModel",
            "_view_count": null,
            "_view_module": "@jupyter-widgets/base",
            "_view_module_version": "1.2.0",
            "_view_name": "LayoutView",
            "align_content": null,
            "align_items": null,
            "align_self": null,
            "border": null,
            "bottom": null,
            "display": null,
            "flex": null,
            "flex_flow": null,
            "grid_area": null,
            "grid_auto_columns": null,
            "grid_auto_flow": null,
            "grid_auto_rows": null,
            "grid_column": null,
            "grid_gap": null,
            "grid_row": null,
            "grid_template_areas": null,
            "grid_template_columns": null,
            "grid_template_rows": null,
            "height": null,
            "justify_content": null,
            "justify_items": null,
            "left": null,
            "margin": null,
            "max_height": null,
            "max_width": null,
            "min_height": null,
            "min_width": null,
            "object_fit": null,
            "object_position": null,
            "order": null,
            "overflow": null,
            "overflow_x": null,
            "overflow_y": null,
            "padding": null,
            "right": null,
            "top": null,
            "visibility": null,
            "width": null
          }
        },
        "56c2bdddf2e646e0828ebdbc40d4821c": {
          "model_module": "@jupyter-widgets/base",
          "model_module_version": "1.2.0",
          "model_name": "LayoutModel",
          "state": {
            "_model_module": "@jupyter-widgets/base",
            "_model_module_version": "1.2.0",
            "_model_name": "LayoutModel",
            "_view_count": null,
            "_view_module": "@jupyter-widgets/base",
            "_view_module_version": "1.2.0",
            "_view_name": "LayoutView",
            "align_content": null,
            "align_items": null,
            "align_self": null,
            "border": null,
            "bottom": null,
            "display": null,
            "flex": null,
            "flex_flow": null,
            "grid_area": null,
            "grid_auto_columns": null,
            "grid_auto_flow": null,
            "grid_auto_rows": null,
            "grid_column": null,
            "grid_gap": null,
            "grid_row": null,
            "grid_template_areas": null,
            "grid_template_columns": null,
            "grid_template_rows": null,
            "height": null,
            "justify_content": null,
            "justify_items": null,
            "left": null,
            "margin": null,
            "max_height": null,
            "max_width": null,
            "min_height": null,
            "min_width": null,
            "object_fit": null,
            "object_position": null,
            "order": null,
            "overflow": null,
            "overflow_x": null,
            "overflow_y": null,
            "padding": null,
            "right": null,
            "top": null,
            "visibility": null,
            "width": null
          }
        },
        "571fab504cba4b4d8eee6f9a6e357896": {
          "model_module": "@jupyter-widgets/controls",
          "model_module_version": "1.5.0",
          "model_name": "HTMLModel",
          "state": {
            "_dom_classes": [],
            "_model_module": "@jupyter-widgets/controls",
            "_model_module_version": "1.5.0",
            "_model_name": "HTMLModel",
            "_view_count": null,
            "_view_module": "@jupyter-widgets/controls",
            "_view_module_version": "1.5.0",
            "_view_name": "HTMLView",
            "description": "",
            "description_tooltip": null,
            "layout": "IPY_MODEL_33aaca0d238f491aa7806ce2a842c8b6",
            "placeholder": "​",
            "style": "IPY_MODEL_8f83a0b7820749c09bb792da2cb7508a",
            "value": " 456k/456k [00:00&lt;00:00, 5.85MB/s]"
          }
        },
        "5bd395992e664685938395045933420c": {
          "model_module": "@jupyter-widgets/base",
          "model_module_version": "1.2.0",
          "model_name": "LayoutModel",
          "state": {
            "_model_module": "@jupyter-widgets/base",
            "_model_module_version": "1.2.0",
            "_model_name": "LayoutModel",
            "_view_count": null,
            "_view_module": "@jupyter-widgets/base",
            "_view_module_version": "1.2.0",
            "_view_name": "LayoutView",
            "align_content": null,
            "align_items": null,
            "align_self": null,
            "border": null,
            "bottom": null,
            "display": null,
            "flex": null,
            "flex_flow": null,
            "grid_area": null,
            "grid_auto_columns": null,
            "grid_auto_flow": null,
            "grid_auto_rows": null,
            "grid_column": null,
            "grid_gap": null,
            "grid_row": null,
            "grid_template_areas": null,
            "grid_template_columns": null,
            "grid_template_rows": null,
            "height": null,
            "justify_content": null,
            "justify_items": null,
            "left": null,
            "margin": null,
            "max_height": null,
            "max_width": null,
            "min_height": null,
            "min_width": null,
            "object_fit": null,
            "object_position": null,
            "order": null,
            "overflow": null,
            "overflow_x": null,
            "overflow_y": null,
            "padding": null,
            "right": null,
            "top": null,
            "visibility": null,
            "width": null
          }
        },
        "5cb1e3f49b4146ec8a5cb7cf6fd77b7f": {
          "model_module": "@jupyter-widgets/controls",
          "model_module_version": "1.5.0",
          "model_name": "DescriptionStyleModel",
          "state": {
            "_model_module": "@jupyter-widgets/controls",
            "_model_module_version": "1.5.0",
            "_model_name": "DescriptionStyleModel",
            "_view_count": null,
            "_view_module": "@jupyter-widgets/base",
            "_view_module_version": "1.2.0",
            "_view_name": "StyleView",
            "description_width": ""
          }
        },
        "5df23f9b2a9f438292656f896f151a3d": {
          "model_module": "@jupyter-widgets/base",
          "model_module_version": "1.2.0",
          "model_name": "LayoutModel",
          "state": {
            "_model_module": "@jupyter-widgets/base",
            "_model_module_version": "1.2.0",
            "_model_name": "LayoutModel",
            "_view_count": null,
            "_view_module": "@jupyter-widgets/base",
            "_view_module_version": "1.2.0",
            "_view_name": "LayoutView",
            "align_content": null,
            "align_items": null,
            "align_self": null,
            "border": null,
            "bottom": null,
            "display": null,
            "flex": null,
            "flex_flow": null,
            "grid_area": null,
            "grid_auto_columns": null,
            "grid_auto_flow": null,
            "grid_auto_rows": null,
            "grid_column": null,
            "grid_gap": null,
            "grid_row": null,
            "grid_template_areas": null,
            "grid_template_columns": null,
            "grid_template_rows": null,
            "height": null,
            "justify_content": null,
            "justify_items": null,
            "left": null,
            "margin": null,
            "max_height": null,
            "max_width": null,
            "min_height": null,
            "min_width": null,
            "object_fit": null,
            "object_position": null,
            "order": null,
            "overflow": null,
            "overflow_x": null,
            "overflow_y": null,
            "padding": null,
            "right": null,
            "top": null,
            "visibility": null,
            "width": null
          }
        },
        "616fffdc9379400699b665063c907f0c": {
          "model_module": "@jupyter-widgets/base",
          "model_module_version": "1.2.0",
          "model_name": "LayoutModel",
          "state": {
            "_model_module": "@jupyter-widgets/base",
            "_model_module_version": "1.2.0",
            "_model_name": "LayoutModel",
            "_view_count": null,
            "_view_module": "@jupyter-widgets/base",
            "_view_module_version": "1.2.0",
            "_view_name": "LayoutView",
            "align_content": null,
            "align_items": null,
            "align_self": null,
            "border": null,
            "bottom": null,
            "display": null,
            "flex": null,
            "flex_flow": null,
            "grid_area": null,
            "grid_auto_columns": null,
            "grid_auto_flow": null,
            "grid_auto_rows": null,
            "grid_column": null,
            "grid_gap": null,
            "grid_row": null,
            "grid_template_areas": null,
            "grid_template_columns": null,
            "grid_template_rows": null,
            "height": null,
            "justify_content": null,
            "justify_items": null,
            "left": null,
            "margin": null,
            "max_height": null,
            "max_width": null,
            "min_height": null,
            "min_width": null,
            "object_fit": null,
            "object_position": null,
            "order": null,
            "overflow": null,
            "overflow_x": null,
            "overflow_y": null,
            "padding": null,
            "right": null,
            "top": null,
            "visibility": null,
            "width": null
          }
        },
        "64a9414f8b564eccb1eb8b964acbf024": {
          "model_module": "@jupyter-widgets/controls",
          "model_module_version": "1.5.0",
          "model_name": "DescriptionStyleModel",
          "state": {
            "_model_module": "@jupyter-widgets/controls",
            "_model_module_version": "1.5.0",
            "_model_name": "DescriptionStyleModel",
            "_view_count": null,
            "_view_module": "@jupyter-widgets/base",
            "_view_module_version": "1.2.0",
            "_view_name": "StyleView",
            "description_width": ""
          }
        },
        "6e0e4d6e29124c04976ae20111816c22": {
          "model_module": "@jupyter-widgets/base",
          "model_module_version": "1.2.0",
          "model_name": "LayoutModel",
          "state": {
            "_model_module": "@jupyter-widgets/base",
            "_model_module_version": "1.2.0",
            "_model_name": "LayoutModel",
            "_view_count": null,
            "_view_module": "@jupyter-widgets/base",
            "_view_module_version": "1.2.0",
            "_view_name": "LayoutView",
            "align_content": null,
            "align_items": null,
            "align_self": null,
            "border": null,
            "bottom": null,
            "display": null,
            "flex": null,
            "flex_flow": null,
            "grid_area": null,
            "grid_auto_columns": null,
            "grid_auto_flow": null,
            "grid_auto_rows": null,
            "grid_column": null,
            "grid_gap": null,
            "grid_row": null,
            "grid_template_areas": null,
            "grid_template_columns": null,
            "grid_template_rows": null,
            "height": null,
            "justify_content": null,
            "justify_items": null,
            "left": null,
            "margin": null,
            "max_height": null,
            "max_width": null,
            "min_height": null,
            "min_width": null,
            "object_fit": null,
            "object_position": null,
            "order": null,
            "overflow": null,
            "overflow_x": null,
            "overflow_y": null,
            "padding": null,
            "right": null,
            "top": null,
            "visibility": null,
            "width": null
          }
        },
        "6ff0bed69e4f4fe7973b2bb9cc69c36a": {
          "model_module": "@jupyter-widgets/controls",
          "model_module_version": "1.5.0",
          "model_name": "DescriptionStyleModel",
          "state": {
            "_model_module": "@jupyter-widgets/controls",
            "_model_module_version": "1.5.0",
            "_model_name": "DescriptionStyleModel",
            "_view_count": null,
            "_view_module": "@jupyter-widgets/base",
            "_view_module_version": "1.2.0",
            "_view_name": "StyleView",
            "description_width": ""
          }
        },
        "71e35dbe7d824f62b61ba96e65c82fc7": {
          "model_module": "@jupyter-widgets/base",
          "model_module_version": "1.2.0",
          "model_name": "LayoutModel",
          "state": {
            "_model_module": "@jupyter-widgets/base",
            "_model_module_version": "1.2.0",
            "_model_name": "LayoutModel",
            "_view_count": null,
            "_view_module": "@jupyter-widgets/base",
            "_view_module_version": "1.2.0",
            "_view_name": "LayoutView",
            "align_content": null,
            "align_items": null,
            "align_self": null,
            "border": null,
            "bottom": null,
            "display": null,
            "flex": null,
            "flex_flow": null,
            "grid_area": null,
            "grid_auto_columns": null,
            "grid_auto_flow": null,
            "grid_auto_rows": null,
            "grid_column": null,
            "grid_gap": null,
            "grid_row": null,
            "grid_template_areas": null,
            "grid_template_columns": null,
            "grid_template_rows": null,
            "height": null,
            "justify_content": null,
            "justify_items": null,
            "left": null,
            "margin": null,
            "max_height": null,
            "max_width": null,
            "min_height": null,
            "min_width": null,
            "object_fit": null,
            "object_position": null,
            "order": null,
            "overflow": null,
            "overflow_x": null,
            "overflow_y": null,
            "padding": null,
            "right": null,
            "top": null,
            "visibility": null,
            "width": null
          }
        },
        "775193ac7d2f46feb051d5a6f5ef3b20": {
          "model_module": "@jupyter-widgets/controls",
          "model_module_version": "1.5.0",
          "model_name": "HBoxModel",
          "state": {
            "_dom_classes": [],
            "_model_module": "@jupyter-widgets/controls",
            "_model_module_version": "1.5.0",
            "_model_name": "HBoxModel",
            "_view_count": null,
            "_view_module": "@jupyter-widgets/controls",
            "_view_module_version": "1.5.0",
            "_view_name": "HBoxView",
            "box_style": "",
            "children": [
              "IPY_MODEL_81ea294c1004465ebe7fa52dafd7a456",
              "IPY_MODEL_ff4bb771565c4567b0c7e2d8a9efe6e8",
              "IPY_MODEL_db56d5694f6543879cb5e00da0b299e7"
            ],
            "layout": "IPY_MODEL_40e590d12f944b6cbde7a923d4a49759"
          }
        },
        "781b429c4e1e415dbb1b8270c5784aa3": {
          "model_module": "@jupyter-widgets/controls",
          "model_module_version": "1.5.0",
          "model_name": "DescriptionStyleModel",
          "state": {
            "_model_module": "@jupyter-widgets/controls",
            "_model_module_version": "1.5.0",
            "_model_name": "DescriptionStyleModel",
            "_view_count": null,
            "_view_module": "@jupyter-widgets/base",
            "_view_module_version": "1.2.0",
            "_view_name": "StyleView",
            "description_width": ""
          }
        },
        "796bd2fe1fe54c76b54fc359a7778b4f": {
          "model_module": "@jupyter-widgets/base",
          "model_module_version": "1.2.0",
          "model_name": "LayoutModel",
          "state": {
            "_model_module": "@jupyter-widgets/base",
            "_model_module_version": "1.2.0",
            "_model_name": "LayoutModel",
            "_view_count": null,
            "_view_module": "@jupyter-widgets/base",
            "_view_module_version": "1.2.0",
            "_view_name": "LayoutView",
            "align_content": null,
            "align_items": null,
            "align_self": null,
            "border": null,
            "bottom": null,
            "display": null,
            "flex": null,
            "flex_flow": null,
            "grid_area": null,
            "grid_auto_columns": null,
            "grid_auto_flow": null,
            "grid_auto_rows": null,
            "grid_column": null,
            "grid_gap": null,
            "grid_row": null,
            "grid_template_areas": null,
            "grid_template_columns": null,
            "grid_template_rows": null,
            "height": null,
            "justify_content": null,
            "justify_items": null,
            "left": null,
            "margin": null,
            "max_height": null,
            "max_width": null,
            "min_height": null,
            "min_width": null,
            "object_fit": null,
            "object_position": null,
            "order": null,
            "overflow": null,
            "overflow_x": null,
            "overflow_y": null,
            "padding": null,
            "right": null,
            "top": null,
            "visibility": null,
            "width": null
          }
        },
        "7c711ad5c8e04d20ba74233122940aa9": {
          "model_module": "@jupyter-widgets/controls",
          "model_module_version": "1.5.0",
          "model_name": "DescriptionStyleModel",
          "state": {
            "_model_module": "@jupyter-widgets/controls",
            "_model_module_version": "1.5.0",
            "_model_name": "DescriptionStyleModel",
            "_view_count": null,
            "_view_module": "@jupyter-widgets/base",
            "_view_module_version": "1.2.0",
            "_view_name": "StyleView",
            "description_width": ""
          }
        },
        "7eaa291c33d54b38a77e8096b93d86fb": {
          "model_module": "@jupyter-widgets/controls",
          "model_module_version": "1.5.0",
          "model_name": "HBoxModel",
          "state": {
            "_dom_classes": [],
            "_model_module": "@jupyter-widgets/controls",
            "_model_module_version": "1.5.0",
            "_model_name": "HBoxModel",
            "_view_count": null,
            "_view_module": "@jupyter-widgets/controls",
            "_view_module_version": "1.5.0",
            "_view_name": "HBoxView",
            "box_style": "",
            "children": [
              "IPY_MODEL_33ee7fd3614a47c88955b193673d2fd7",
              "IPY_MODEL_2ccaaa30846e4896bb1eb457c6e6e395",
              "IPY_MODEL_17652a2337784539ac3073b89c02de53"
            ],
            "layout": "IPY_MODEL_850bf0de19d847b284676dd7b83c0792"
          }
        },
        "8010a76a13a145aa970f1246c5b9ab10": {
          "model_module": "@jupyter-widgets/controls",
          "model_module_version": "1.5.0",
          "model_name": "ProgressStyleModel",
          "state": {
            "_model_module": "@jupyter-widgets/controls",
            "_model_module_version": "1.5.0",
            "_model_name": "ProgressStyleModel",
            "_view_count": null,
            "_view_module": "@jupyter-widgets/base",
            "_view_module_version": "1.2.0",
            "_view_name": "StyleView",
            "bar_color": null,
            "description_width": ""
          }
        },
        "81ea294c1004465ebe7fa52dafd7a456": {
          "model_module": "@jupyter-widgets/controls",
          "model_module_version": "1.5.0",
          "model_name": "HTMLModel",
          "state": {
            "_dom_classes": [],
            "_model_module": "@jupyter-widgets/controls",
            "_model_module_version": "1.5.0",
            "_model_name": "HTMLModel",
            "_view_count": null,
            "_view_module": "@jupyter-widgets/controls",
            "_view_module_version": "1.5.0",
            "_view_name": "HTMLView",
            "description": "",
            "description_tooltip": null,
            "layout": "IPY_MODEL_3200dfc142ce4242b0f844842351d287",
            "placeholder": "​",
            "style": "IPY_MODEL_a4d4b3047c1546218165cee19d4fc0cc",
            "value": "model.safetensors: 100%"
          }
        },
        "81fad4f4b2154b359656e6c514cc5f13": {
          "model_module": "@jupyter-widgets/controls",
          "model_module_version": "1.5.0",
          "model_name": "HTMLModel",
          "state": {
            "_dom_classes": [],
            "_model_module": "@jupyter-widgets/controls",
            "_model_module_version": "1.5.0",
            "_model_name": "HTMLModel",
            "_view_count": null,
            "_view_module": "@jupyter-widgets/controls",
            "_view_module_version": "1.5.0",
            "_view_name": "HTMLView",
            "description": "",
            "description_tooltip": null,
            "layout": "IPY_MODEL_c354ffd45569470ba358479ba27067de",
            "placeholder": "​",
            "style": "IPY_MODEL_cd7ff16ed5c34e578ab8a25dc4092e69",
            "value": " 2.11M/2.11M [00:00&lt;00:00, 8.57MB/s]"
          }
        },
        "8440feee01e54c51bc21aea05b2dd68d": {
          "model_module": "@jupyter-widgets/base",
          "model_module_version": "1.2.0",
          "model_name": "LayoutModel",
          "state": {
            "_model_module": "@jupyter-widgets/base",
            "_model_module_version": "1.2.0",
            "_model_name": "LayoutModel",
            "_view_count": null,
            "_view_module": "@jupyter-widgets/base",
            "_view_module_version": "1.2.0",
            "_view_name": "LayoutView",
            "align_content": null,
            "align_items": null,
            "align_self": null,
            "border": null,
            "bottom": null,
            "display": null,
            "flex": null,
            "flex_flow": null,
            "grid_area": null,
            "grid_auto_columns": null,
            "grid_auto_flow": null,
            "grid_auto_rows": null,
            "grid_column": null,
            "grid_gap": null,
            "grid_row": null,
            "grid_template_areas": null,
            "grid_template_columns": null,
            "grid_template_rows": null,
            "height": null,
            "justify_content": null,
            "justify_items": null,
            "left": null,
            "margin": null,
            "max_height": null,
            "max_width": null,
            "min_height": null,
            "min_width": null,
            "object_fit": null,
            "object_position": null,
            "order": null,
            "overflow": null,
            "overflow_x": null,
            "overflow_y": null,
            "padding": null,
            "right": null,
            "top": null,
            "visibility": null,
            "width": null
          }
        },
        "850bf0de19d847b284676dd7b83c0792": {
          "model_module": "@jupyter-widgets/base",
          "model_module_version": "1.2.0",
          "model_name": "LayoutModel",
          "state": {
            "_model_module": "@jupyter-widgets/base",
            "_model_module_version": "1.2.0",
            "_model_name": "LayoutModel",
            "_view_count": null,
            "_view_module": "@jupyter-widgets/base",
            "_view_module_version": "1.2.0",
            "_view_name": "LayoutView",
            "align_content": null,
            "align_items": null,
            "align_self": null,
            "border": null,
            "bottom": null,
            "display": null,
            "flex": null,
            "flex_flow": null,
            "grid_area": null,
            "grid_auto_columns": null,
            "grid_auto_flow": null,
            "grid_auto_rows": null,
            "grid_column": null,
            "grid_gap": null,
            "grid_row": null,
            "grid_template_areas": null,
            "grid_template_columns": null,
            "grid_template_rows": null,
            "height": null,
            "justify_content": null,
            "justify_items": null,
            "left": null,
            "margin": null,
            "max_height": null,
            "max_width": null,
            "min_height": null,
            "min_width": null,
            "object_fit": null,
            "object_position": null,
            "order": null,
            "overflow": null,
            "overflow_x": null,
            "overflow_y": null,
            "padding": null,
            "right": null,
            "top": null,
            "visibility": null,
            "width": null
          }
        },
        "8795ff54727c4d44ad25523b47a474f7": {
          "model_module": "@jupyter-widgets/controls",
          "model_module_version": "1.5.0",
          "model_name": "HTMLModel",
          "state": {
            "_dom_classes": [],
            "_model_module": "@jupyter-widgets/controls",
            "_model_module_version": "1.5.0",
            "_model_name": "HTMLModel",
            "_view_count": null,
            "_view_module": "@jupyter-widgets/controls",
            "_view_module_version": "1.5.0",
            "_view_name": "HTMLView",
            "description": "",
            "description_tooltip": null,
            "layout": "IPY_MODEL_56c2bdddf2e646e0828ebdbc40d4821c",
            "placeholder": "​",
            "style": "IPY_MODEL_6ff0bed69e4f4fe7973b2bb9cc69c36a",
            "value": "config.json: 100%"
          }
        },
        "89458caf165644fb84852a902813d653": {
          "model_module": "@jupyter-widgets/controls",
          "model_module_version": "1.5.0",
          "model_name": "FloatProgressModel",
          "state": {
            "_dom_classes": [],
            "_model_module": "@jupyter-widgets/controls",
            "_model_module_version": "1.5.0",
            "_model_name": "FloatProgressModel",
            "_view_count": null,
            "_view_module": "@jupyter-widgets/controls",
            "_view_module_version": "1.5.0",
            "_view_name": "ProgressView",
            "bar_style": "success",
            "description": "",
            "description_tooltip": null,
            "layout": "IPY_MODEL_d545fc552ad4429c83a2899ee4925ef9",
            "max": 2113837,
            "min": 0,
            "orientation": "horizontal",
            "style": "IPY_MODEL_cef2edb2512f401090bf74f728fb8b54",
            "value": 2113837
          }
        },
        "8b1d9898770947859915240da20fa482": {
          "model_module": "@jupyter-widgets/controls",
          "model_module_version": "1.5.0",
          "model_name": "FloatProgressModel",
          "state": {
            "_dom_classes": [],
            "_model_module": "@jupyter-widgets/controls",
            "_model_module_version": "1.5.0",
            "_model_name": "FloatProgressModel",
            "_view_count": null,
            "_view_module": "@jupyter-widgets/controls",
            "_view_module_version": "1.5.0",
            "_view_name": "ProgressView",
            "bar_style": "success",
            "description": "",
            "description_tooltip": null,
            "layout": "IPY_MODEL_516effef8aaa4e10b45be0c6d5015a66",
            "max": 456318,
            "min": 0,
            "orientation": "horizontal",
            "style": "IPY_MODEL_8010a76a13a145aa970f1246c5b9ab10",
            "value": 456318
          }
        },
        "8c474540c49a42558b7dfc92a3576604": {
          "model_module": "@jupyter-widgets/controls",
          "model_module_version": "1.5.0",
          "model_name": "ProgressStyleModel",
          "state": {
            "_model_module": "@jupyter-widgets/controls",
            "_model_module_version": "1.5.0",
            "_model_name": "ProgressStyleModel",
            "_view_count": null,
            "_view_module": "@jupyter-widgets/base",
            "_view_module_version": "1.2.0",
            "_view_name": "StyleView",
            "bar_color": null,
            "description_width": ""
          }
        },
        "8d48094125844fb1aa60c089c893a7b2": {
          "model_module": "@jupyter-widgets/base",
          "model_module_version": "1.2.0",
          "model_name": "LayoutModel",
          "state": {
            "_model_module": "@jupyter-widgets/base",
            "_model_module_version": "1.2.0",
            "_model_name": "LayoutModel",
            "_view_count": null,
            "_view_module": "@jupyter-widgets/base",
            "_view_module_version": "1.2.0",
            "_view_name": "LayoutView",
            "align_content": null,
            "align_items": null,
            "align_self": null,
            "border": null,
            "bottom": null,
            "display": null,
            "flex": null,
            "flex_flow": null,
            "grid_area": null,
            "grid_auto_columns": null,
            "grid_auto_flow": null,
            "grid_auto_rows": null,
            "grid_column": null,
            "grid_gap": null,
            "grid_row": null,
            "grid_template_areas": null,
            "grid_template_columns": null,
            "grid_template_rows": null,
            "height": null,
            "justify_content": null,
            "justify_items": null,
            "left": null,
            "margin": null,
            "max_height": null,
            "max_width": null,
            "min_height": null,
            "min_width": null,
            "object_fit": null,
            "object_position": null,
            "order": null,
            "overflow": null,
            "overflow_x": null,
            "overflow_y": null,
            "padding": null,
            "right": null,
            "top": null,
            "visibility": null,
            "width": null
          }
        },
        "8d99704fde674aab927e5b1b000cc52a": {
          "model_module": "@jupyter-widgets/controls",
          "model_module_version": "1.5.0",
          "model_name": "HBoxModel",
          "state": {
            "_dom_classes": [],
            "_model_module": "@jupyter-widgets/controls",
            "_model_module_version": "1.5.0",
            "_model_name": "HBoxModel",
            "_view_count": null,
            "_view_module": "@jupyter-widgets/controls",
            "_view_module_version": "1.5.0",
            "_view_name": "HBoxView",
            "box_style": "",
            "children": [
              "IPY_MODEL_8795ff54727c4d44ad25523b47a474f7",
              "IPY_MODEL_bd7aba2a491a4296986d9c4ad3ee7d82",
              "IPY_MODEL_254440e01b244b57bb3d8a8a76f85253"
            ],
            "layout": "IPY_MODEL_71e35dbe7d824f62b61ba96e65c82fc7"
          }
        },
        "8f83a0b7820749c09bb792da2cb7508a": {
          "model_module": "@jupyter-widgets/controls",
          "model_module_version": "1.5.0",
          "model_name": "DescriptionStyleModel",
          "state": {
            "_model_module": "@jupyter-widgets/controls",
            "_model_module_version": "1.5.0",
            "_model_name": "DescriptionStyleModel",
            "_view_count": null,
            "_view_module": "@jupyter-widgets/base",
            "_view_module_version": "1.2.0",
            "_view_name": "StyleView",
            "description_width": ""
          }
        },
        "91150f2bf9054933afef97df22630a6d": {
          "model_module": "@jupyter-widgets/controls",
          "model_module_version": "1.5.0",
          "model_name": "HTMLModel",
          "state": {
            "_dom_classes": [],
            "_model_module": "@jupyter-widgets/controls",
            "_model_module_version": "1.5.0",
            "_model_name": "HTMLModel",
            "_view_count": null,
            "_view_module": "@jupyter-widgets/controls",
            "_view_module_version": "1.5.0",
            "_view_name": "HTMLView",
            "description": "",
            "description_tooltip": null,
            "layout": "IPY_MODEL_0401b837de6442ad9d5a1c02a16ab43b",
            "placeholder": "​",
            "style": "IPY_MODEL_5cb1e3f49b4146ec8a5cb7cf6fd77b7f",
            "value": " 1.04M/1.04M [00:00&lt;00:00, 2.44MB/s]"
          }
        },
        "95dec9a53e81410bb95b53efd32e04ab": {
          "model_module": "@jupyter-widgets/controls",
          "model_module_version": "1.5.0",
          "model_name": "HBoxModel",
          "state": {
            "_dom_classes": [],
            "_model_module": "@jupyter-widgets/controls",
            "_model_module_version": "1.5.0",
            "_model_name": "HBoxModel",
            "_view_count": null,
            "_view_module": "@jupyter-widgets/controls",
            "_view_module_version": "1.5.0",
            "_view_name": "HBoxView",
            "box_style": "",
            "children": [
              "IPY_MODEL_3255b6cf0e6d4c87bf18cbbdc135ba43",
              "IPY_MODEL_b94a62e62f0f4c7998c43eeb29e71b93",
              "IPY_MODEL_91150f2bf9054933afef97df22630a6d"
            ],
            "layout": "IPY_MODEL_2be0e75e3e23484da70139a9f0a3ab67"
          }
        },
        "9a279ca8089a44c7ada285026b09f2b3": {
          "model_module": "@jupyter-widgets/base",
          "model_module_version": "1.2.0",
          "model_name": "LayoutModel",
          "state": {
            "_model_module": "@jupyter-widgets/base",
            "_model_module_version": "1.2.0",
            "_model_name": "LayoutModel",
            "_view_count": null,
            "_view_module": "@jupyter-widgets/base",
            "_view_module_version": "1.2.0",
            "_view_name": "LayoutView",
            "align_content": null,
            "align_items": null,
            "align_self": null,
            "border": null,
            "bottom": null,
            "display": null,
            "flex": null,
            "flex_flow": null,
            "grid_area": null,
            "grid_auto_columns": null,
            "grid_auto_flow": null,
            "grid_auto_rows": null,
            "grid_column": null,
            "grid_gap": null,
            "grid_row": null,
            "grid_template_areas": null,
            "grid_template_columns": null,
            "grid_template_rows": null,
            "height": null,
            "justify_content": null,
            "justify_items": null,
            "left": null,
            "margin": null,
            "max_height": null,
            "max_width": null,
            "min_height": null,
            "min_width": null,
            "object_fit": null,
            "object_position": null,
            "order": null,
            "overflow": null,
            "overflow_x": null,
            "overflow_y": null,
            "padding": null,
            "right": null,
            "top": null,
            "visibility": null,
            "width": null
          }
        },
        "9af3dad831124c85b81470dae8f5a3f1": {
          "model_module": "@jupyter-widgets/base",
          "model_module_version": "1.2.0",
          "model_name": "LayoutModel",
          "state": {
            "_model_module": "@jupyter-widgets/base",
            "_model_module_version": "1.2.0",
            "_model_name": "LayoutModel",
            "_view_count": null,
            "_view_module": "@jupyter-widgets/base",
            "_view_module_version": "1.2.0",
            "_view_name": "LayoutView",
            "align_content": null,
            "align_items": null,
            "align_self": null,
            "border": null,
            "bottom": null,
            "display": null,
            "flex": null,
            "flex_flow": null,
            "grid_area": null,
            "grid_auto_columns": null,
            "grid_auto_flow": null,
            "grid_auto_rows": null,
            "grid_column": null,
            "grid_gap": null,
            "grid_row": null,
            "grid_template_areas": null,
            "grid_template_columns": null,
            "grid_template_rows": null,
            "height": null,
            "justify_content": null,
            "justify_items": null,
            "left": null,
            "margin": null,
            "max_height": null,
            "max_width": null,
            "min_height": null,
            "min_width": null,
            "object_fit": null,
            "object_position": null,
            "order": null,
            "overflow": null,
            "overflow_x": null,
            "overflow_y": null,
            "padding": null,
            "right": null,
            "top": null,
            "visibility": null,
            "width": null
          }
        },
        "9bb78f883727470e981e935001224667": {
          "model_module": "@jupyter-widgets/controls",
          "model_module_version": "1.5.0",
          "model_name": "DescriptionStyleModel",
          "state": {
            "_model_module": "@jupyter-widgets/controls",
            "_model_module_version": "1.5.0",
            "_model_name": "DescriptionStyleModel",
            "_view_count": null,
            "_view_module": "@jupyter-widgets/base",
            "_view_module_version": "1.2.0",
            "_view_name": "StyleView",
            "description_width": ""
          }
        },
        "a0c98eef34d54471baf7ed6824b5a80e": {
          "model_module": "@jupyter-widgets/controls",
          "model_module_version": "1.5.0",
          "model_name": "ProgressStyleModel",
          "state": {
            "_model_module": "@jupyter-widgets/controls",
            "_model_module_version": "1.5.0",
            "_model_name": "ProgressStyleModel",
            "_view_count": null,
            "_view_module": "@jupyter-widgets/base",
            "_view_module_version": "1.2.0",
            "_view_name": "StyleView",
            "bar_color": null,
            "description_width": ""
          }
        },
        "a1a511791fd8418c997c3780b75eb183": {
          "model_module": "@jupyter-widgets/controls",
          "model_module_version": "1.5.0",
          "model_name": "HBoxModel",
          "state": {
            "_dom_classes": [],
            "_model_module": "@jupyter-widgets/controls",
            "_model_module_version": "1.5.0",
            "_model_name": "HBoxModel",
            "_view_count": null,
            "_view_module": "@jupyter-widgets/controls",
            "_view_module_version": "1.5.0",
            "_view_name": "HBoxView",
            "box_style": "",
            "children": [
              "IPY_MODEL_2675675a422f415f98190b8678f8a2dd",
              "IPY_MODEL_2607da9c737144829dcd61d13838a5d0",
              "IPY_MODEL_ed52e485047141699a8ccd890cf60e58"
            ],
            "layout": "IPY_MODEL_9af3dad831124c85b81470dae8f5a3f1"
          }
        },
        "a21514beac8e4206be1bc4e33c2f30e8": {
          "model_module": "@jupyter-widgets/controls",
          "model_module_version": "1.5.0",
          "model_name": "DescriptionStyleModel",
          "state": {
            "_model_module": "@jupyter-widgets/controls",
            "_model_module_version": "1.5.0",
            "_model_name": "DescriptionStyleModel",
            "_view_count": null,
            "_view_module": "@jupyter-widgets/base",
            "_view_module_version": "1.2.0",
            "_view_name": "StyleView",
            "description_width": ""
          }
        },
        "a4d4b3047c1546218165cee19d4fc0cc": {
          "model_module": "@jupyter-widgets/controls",
          "model_module_version": "1.5.0",
          "model_name": "DescriptionStyleModel",
          "state": {
            "_model_module": "@jupyter-widgets/controls",
            "_model_module_version": "1.5.0",
            "_model_name": "DescriptionStyleModel",
            "_view_count": null,
            "_view_module": "@jupyter-widgets/base",
            "_view_module_version": "1.2.0",
            "_view_name": "StyleView",
            "description_width": ""
          }
        },
        "aa5d6018b06f43aba5013dd61d271ad0": {
          "model_module": "@jupyter-widgets/controls",
          "model_module_version": "1.5.0",
          "model_name": "HBoxModel",
          "state": {
            "_dom_classes": [],
            "_model_module": "@jupyter-widgets/controls",
            "_model_module_version": "1.5.0",
            "_model_name": "HBoxModel",
            "_view_count": null,
            "_view_module": "@jupyter-widgets/controls",
            "_view_module_version": "1.5.0",
            "_view_name": "HBoxView",
            "box_style": "",
            "children": [
              "IPY_MODEL_2313567f90164ef7b364ced4547588d2",
              "IPY_MODEL_1172706660fe43ec8186182c49e3b43b",
              "IPY_MODEL_54db713552844e0e94db30950f52ade4"
            ],
            "layout": "IPY_MODEL_6e0e4d6e29124c04976ae20111816c22"
          }
        },
        "ab0286c5ac2c4bb4a93702590fa240ee": {
          "model_module": "@jupyter-widgets/controls",
          "model_module_version": "1.5.0",
          "model_name": "ProgressStyleModel",
          "state": {
            "_model_module": "@jupyter-widgets/controls",
            "_model_module_version": "1.5.0",
            "_model_name": "ProgressStyleModel",
            "_view_count": null,
            "_view_module": "@jupyter-widgets/base",
            "_view_module_version": "1.2.0",
            "_view_name": "StyleView",
            "bar_color": null,
            "description_width": ""
          }
        },
        "b0c5e9ee36404da1abfdbcd9ced07386": {
          "model_module": "@jupyter-widgets/controls",
          "model_module_version": "1.5.0",
          "model_name": "DescriptionStyleModel",
          "state": {
            "_model_module": "@jupyter-widgets/controls",
            "_model_module_version": "1.5.0",
            "_model_name": "DescriptionStyleModel",
            "_view_count": null,
            "_view_module": "@jupyter-widgets/base",
            "_view_module_version": "1.2.0",
            "_view_name": "StyleView",
            "description_width": ""
          }
        },
        "b3edfd11d1fa4cf1808ec246c8955450": {
          "model_module": "@jupyter-widgets/base",
          "model_module_version": "1.2.0",
          "model_name": "LayoutModel",
          "state": {
            "_model_module": "@jupyter-widgets/base",
            "_model_module_version": "1.2.0",
            "_model_name": "LayoutModel",
            "_view_count": null,
            "_view_module": "@jupyter-widgets/base",
            "_view_module_version": "1.2.0",
            "_view_name": "LayoutView",
            "align_content": null,
            "align_items": null,
            "align_self": null,
            "border": null,
            "bottom": null,
            "display": null,
            "flex": null,
            "flex_flow": null,
            "grid_area": null,
            "grid_auto_columns": null,
            "grid_auto_flow": null,
            "grid_auto_rows": null,
            "grid_column": null,
            "grid_gap": null,
            "grid_row": null,
            "grid_template_areas": null,
            "grid_template_columns": null,
            "grid_template_rows": null,
            "height": null,
            "justify_content": null,
            "justify_items": null,
            "left": null,
            "margin": null,
            "max_height": null,
            "max_width": null,
            "min_height": null,
            "min_width": null,
            "object_fit": null,
            "object_position": null,
            "order": null,
            "overflow": null,
            "overflow_x": null,
            "overflow_y": null,
            "padding": null,
            "right": null,
            "top": null,
            "visibility": null,
            "width": null
          }
        },
        "b91c86364ff841f49efef4bfbe20352f": {
          "model_module": "@jupyter-widgets/base",
          "model_module_version": "1.2.0",
          "model_name": "LayoutModel",
          "state": {
            "_model_module": "@jupyter-widgets/base",
            "_model_module_version": "1.2.0",
            "_model_name": "LayoutModel",
            "_view_count": null,
            "_view_module": "@jupyter-widgets/base",
            "_view_module_version": "1.2.0",
            "_view_name": "LayoutView",
            "align_content": null,
            "align_items": null,
            "align_self": null,
            "border": null,
            "bottom": null,
            "display": null,
            "flex": null,
            "flex_flow": null,
            "grid_area": null,
            "grid_auto_columns": null,
            "grid_auto_flow": null,
            "grid_auto_rows": null,
            "grid_column": null,
            "grid_gap": null,
            "grid_row": null,
            "grid_template_areas": null,
            "grid_template_columns": null,
            "grid_template_rows": null,
            "height": null,
            "justify_content": null,
            "justify_items": null,
            "left": null,
            "margin": null,
            "max_height": null,
            "max_width": null,
            "min_height": null,
            "min_width": null,
            "object_fit": null,
            "object_position": null,
            "order": null,
            "overflow": null,
            "overflow_x": null,
            "overflow_y": null,
            "padding": null,
            "right": null,
            "top": null,
            "visibility": null,
            "width": null
          }
        },
        "b94a62e62f0f4c7998c43eeb29e71b93": {
          "model_module": "@jupyter-widgets/controls",
          "model_module_version": "1.5.0",
          "model_name": "FloatProgressModel",
          "state": {
            "_dom_classes": [],
            "_model_module": "@jupyter-widgets/controls",
            "_model_module_version": "1.5.0",
            "_model_name": "FloatProgressModel",
            "_view_count": null,
            "_view_module": "@jupyter-widgets/controls",
            "_view_module_version": "1.5.0",
            "_view_name": "ProgressView",
            "bar_style": "success",
            "description": "",
            "description_tooltip": null,
            "layout": "IPY_MODEL_796bd2fe1fe54c76b54fc359a7778b4f",
            "max": 1042301,
            "min": 0,
            "orientation": "horizontal",
            "style": "IPY_MODEL_e3e7e6f29db045c9bc8dd03a77cd5e6a",
            "value": 1042301
          }
        },
        "bd7aba2a491a4296986d9c4ad3ee7d82": {
          "model_module": "@jupyter-widgets/controls",
          "model_module_version": "1.5.0",
          "model_name": "FloatProgressModel",
          "state": {
            "_dom_classes": [],
            "_model_module": "@jupyter-widgets/controls",
            "_model_module_version": "1.5.0",
            "_model_name": "FloatProgressModel",
            "_view_count": null,
            "_view_module": "@jupyter-widgets/controls",
            "_view_module_version": "1.5.0",
            "_view_name": "ProgressView",
            "bar_style": "success",
            "description": "",
            "description_tooltip": null,
            "layout": "IPY_MODEL_e84c4f48d012401fab2df09377062e03",
            "max": 666,
            "min": 0,
            "orientation": "horizontal",
            "style": "IPY_MODEL_a0c98eef34d54471baf7ed6824b5a80e",
            "value": 666
          }
        },
        "bf88e61ea80841b1a972feb9944995dc": {
          "model_module": "@jupyter-widgets/controls",
          "model_module_version": "1.5.0",
          "model_name": "ProgressStyleModel",
          "state": {
            "_model_module": "@jupyter-widgets/controls",
            "_model_module_version": "1.5.0",
            "_model_name": "ProgressStyleModel",
            "_view_count": null,
            "_view_module": "@jupyter-widgets/base",
            "_view_module_version": "1.2.0",
            "_view_name": "StyleView",
            "bar_color": null,
            "description_width": ""
          }
        },
        "c17ea8077da54df2b7f72becfa7054a8": {
          "model_module": "@jupyter-widgets/controls",
          "model_module_version": "1.5.0",
          "model_name": "ProgressStyleModel",
          "state": {
            "_model_module": "@jupyter-widgets/controls",
            "_model_module_version": "1.5.0",
            "_model_name": "ProgressStyleModel",
            "_view_count": null,
            "_view_module": "@jupyter-widgets/base",
            "_view_module_version": "1.2.0",
            "_view_name": "StyleView",
            "bar_color": null,
            "description_width": ""
          }
        },
        "c354ffd45569470ba358479ba27067de": {
          "model_module": "@jupyter-widgets/base",
          "model_module_version": "1.2.0",
          "model_name": "LayoutModel",
          "state": {
            "_model_module": "@jupyter-widgets/base",
            "_model_module_version": "1.2.0",
            "_model_name": "LayoutModel",
            "_view_count": null,
            "_view_module": "@jupyter-widgets/base",
            "_view_module_version": "1.2.0",
            "_view_name": "LayoutView",
            "align_content": null,
            "align_items": null,
            "align_self": null,
            "border": null,
            "bottom": null,
            "display": null,
            "flex": null,
            "flex_flow": null,
            "grid_area": null,
            "grid_auto_columns": null,
            "grid_auto_flow": null,
            "grid_auto_rows": null,
            "grid_column": null,
            "grid_gap": null,
            "grid_row": null,
            "grid_template_areas": null,
            "grid_template_columns": null,
            "grid_template_rows": null,
            "height": null,
            "justify_content": null,
            "justify_items": null,
            "left": null,
            "margin": null,
            "max_height": null,
            "max_width": null,
            "min_height": null,
            "min_width": null,
            "object_fit": null,
            "object_position": null,
            "order": null,
            "overflow": null,
            "overflow_x": null,
            "overflow_y": null,
            "padding": null,
            "right": null,
            "top": null,
            "visibility": null,
            "width": null
          }
        },
        "c651a5523b6841b3b0426f5319bca01b": {
          "model_module": "@jupyter-widgets/controls",
          "model_module_version": "1.5.0",
          "model_name": "DescriptionStyleModel",
          "state": {
            "_model_module": "@jupyter-widgets/controls",
            "_model_module_version": "1.5.0",
            "_model_name": "DescriptionStyleModel",
            "_view_count": null,
            "_view_module": "@jupyter-widgets/base",
            "_view_module_version": "1.2.0",
            "_view_name": "StyleView",
            "description_width": ""
          }
        },
        "cb82f29ccf19423c8d7d2c58c59a220f": {
          "model_module": "@jupyter-widgets/base",
          "model_module_version": "1.2.0",
          "model_name": "LayoutModel",
          "state": {
            "_model_module": "@jupyter-widgets/base",
            "_model_module_version": "1.2.0",
            "_model_name": "LayoutModel",
            "_view_count": null,
            "_view_module": "@jupyter-widgets/base",
            "_view_module_version": "1.2.0",
            "_view_name": "LayoutView",
            "align_content": null,
            "align_items": null,
            "align_self": null,
            "border": null,
            "bottom": null,
            "display": null,
            "flex": null,
            "flex_flow": null,
            "grid_area": null,
            "grid_auto_columns": null,
            "grid_auto_flow": null,
            "grid_auto_rows": null,
            "grid_column": null,
            "grid_gap": null,
            "grid_row": null,
            "grid_template_areas": null,
            "grid_template_columns": null,
            "grid_template_rows": null,
            "height": null,
            "justify_content": null,
            "justify_items": null,
            "left": null,
            "margin": null,
            "max_height": null,
            "max_width": null,
            "min_height": null,
            "min_width": null,
            "object_fit": null,
            "object_position": null,
            "order": null,
            "overflow": null,
            "overflow_x": null,
            "overflow_y": null,
            "padding": null,
            "right": null,
            "top": null,
            "visibility": null,
            "width": null
          }
        },
        "cd7ff16ed5c34e578ab8a25dc4092e69": {
          "model_module": "@jupyter-widgets/controls",
          "model_module_version": "1.5.0",
          "model_name": "DescriptionStyleModel",
          "state": {
            "_model_module": "@jupyter-widgets/controls",
            "_model_module_version": "1.5.0",
            "_model_name": "DescriptionStyleModel",
            "_view_count": null,
            "_view_module": "@jupyter-widgets/base",
            "_view_module_version": "1.2.0",
            "_view_name": "StyleView",
            "description_width": ""
          }
        },
        "cef2edb2512f401090bf74f728fb8b54": {
          "model_module": "@jupyter-widgets/controls",
          "model_module_version": "1.5.0",
          "model_name": "ProgressStyleModel",
          "state": {
            "_model_module": "@jupyter-widgets/controls",
            "_model_module_version": "1.5.0",
            "_model_name": "ProgressStyleModel",
            "_view_count": null,
            "_view_module": "@jupyter-widgets/base",
            "_view_module_version": "1.2.0",
            "_view_name": "StyleView",
            "bar_color": null,
            "description_width": ""
          }
        },
        "cfb062f84c99417caa4923dce11fdde9": {
          "model_module": "@jupyter-widgets/base",
          "model_module_version": "1.2.0",
          "model_name": "LayoutModel",
          "state": {
            "_model_module": "@jupyter-widgets/base",
            "_model_module_version": "1.2.0",
            "_model_name": "LayoutModel",
            "_view_count": null,
            "_view_module": "@jupyter-widgets/base",
            "_view_module_version": "1.2.0",
            "_view_name": "LayoutView",
            "align_content": null,
            "align_items": null,
            "align_self": null,
            "border": null,
            "bottom": null,
            "display": null,
            "flex": null,
            "flex_flow": null,
            "grid_area": null,
            "grid_auto_columns": null,
            "grid_auto_flow": null,
            "grid_auto_rows": null,
            "grid_column": null,
            "grid_gap": null,
            "grid_row": null,
            "grid_template_areas": null,
            "grid_template_columns": null,
            "grid_template_rows": null,
            "height": null,
            "justify_content": null,
            "justify_items": null,
            "left": null,
            "margin": null,
            "max_height": null,
            "max_width": null,
            "min_height": null,
            "min_width": null,
            "object_fit": null,
            "object_position": null,
            "order": null,
            "overflow": null,
            "overflow_x": null,
            "overflow_y": null,
            "padding": null,
            "right": null,
            "top": null,
            "visibility": null,
            "width": null
          }
        },
        "d0cec55784fa40b083990cd25dbbf15d": {
          "model_module": "@jupyter-widgets/base",
          "model_module_version": "1.2.0",
          "model_name": "LayoutModel",
          "state": {
            "_model_module": "@jupyter-widgets/base",
            "_model_module_version": "1.2.0",
            "_model_name": "LayoutModel",
            "_view_count": null,
            "_view_module": "@jupyter-widgets/base",
            "_view_module_version": "1.2.0",
            "_view_name": "LayoutView",
            "align_content": null,
            "align_items": null,
            "align_self": null,
            "border": null,
            "bottom": null,
            "display": null,
            "flex": null,
            "flex_flow": null,
            "grid_area": null,
            "grid_auto_columns": null,
            "grid_auto_flow": null,
            "grid_auto_rows": null,
            "grid_column": null,
            "grid_gap": null,
            "grid_row": null,
            "grid_template_areas": null,
            "grid_template_columns": null,
            "grid_template_rows": null,
            "height": null,
            "justify_content": null,
            "justify_items": null,
            "left": null,
            "margin": null,
            "max_height": null,
            "max_width": null,
            "min_height": null,
            "min_width": null,
            "object_fit": null,
            "object_position": null,
            "order": null,
            "overflow": null,
            "overflow_x": null,
            "overflow_y": null,
            "padding": null,
            "right": null,
            "top": null,
            "visibility": null,
            "width": null
          }
        },
        "d545fc552ad4429c83a2899ee4925ef9": {
          "model_module": "@jupyter-widgets/base",
          "model_module_version": "1.2.0",
          "model_name": "LayoutModel",
          "state": {
            "_model_module": "@jupyter-widgets/base",
            "_model_module_version": "1.2.0",
            "_model_name": "LayoutModel",
            "_view_count": null,
            "_view_module": "@jupyter-widgets/base",
            "_view_module_version": "1.2.0",
            "_view_name": "LayoutView",
            "align_content": null,
            "align_items": null,
            "align_self": null,
            "border": null,
            "bottom": null,
            "display": null,
            "flex": null,
            "flex_flow": null,
            "grid_area": null,
            "grid_auto_columns": null,
            "grid_auto_flow": null,
            "grid_auto_rows": null,
            "grid_column": null,
            "grid_gap": null,
            "grid_row": null,
            "grid_template_areas": null,
            "grid_template_columns": null,
            "grid_template_rows": null,
            "height": null,
            "justify_content": null,
            "justify_items": null,
            "left": null,
            "margin": null,
            "max_height": null,
            "max_width": null,
            "min_height": null,
            "min_width": null,
            "object_fit": null,
            "object_position": null,
            "order": null,
            "overflow": null,
            "overflow_x": null,
            "overflow_y": null,
            "padding": null,
            "right": null,
            "top": null,
            "visibility": null,
            "width": null
          }
        },
        "db56d5694f6543879cb5e00da0b299e7": {
          "model_module": "@jupyter-widgets/controls",
          "model_module_version": "1.5.0",
          "model_name": "HTMLModel",
          "state": {
            "_dom_classes": [],
            "_model_module": "@jupyter-widgets/controls",
            "_model_module_version": "1.5.0",
            "_model_name": "HTMLModel",
            "_view_count": null,
            "_view_module": "@jupyter-widgets/controls",
            "_view_module_version": "1.5.0",
            "_view_name": "HTMLView",
            "description": "",
            "description_tooltip": null,
            "layout": "IPY_MODEL_fe449f07e23046fc9b45267b4ba9035b",
            "placeholder": "​",
            "style": "IPY_MODEL_781b429c4e1e415dbb1b8270c5784aa3",
            "value": " 3.25G/3.25G [00:43&lt;00:00, 90.3MB/s]"
          }
        },
        "e1ef770ce7724bf292c5cd7f12a19f3f": {
          "model_module": "@jupyter-widgets/base",
          "model_module_version": "1.2.0",
          "model_name": "LayoutModel",
          "state": {
            "_model_module": "@jupyter-widgets/base",
            "_model_module_version": "1.2.0",
            "_model_name": "LayoutModel",
            "_view_count": null,
            "_view_module": "@jupyter-widgets/base",
            "_view_module_version": "1.2.0",
            "_view_name": "LayoutView",
            "align_content": null,
            "align_items": null,
            "align_self": null,
            "border": null,
            "bottom": null,
            "display": null,
            "flex": null,
            "flex_flow": null,
            "grid_area": null,
            "grid_auto_columns": null,
            "grid_auto_flow": null,
            "grid_auto_rows": null,
            "grid_column": null,
            "grid_gap": null,
            "grid_row": null,
            "grid_template_areas": null,
            "grid_template_columns": null,
            "grid_template_rows": null,
            "height": null,
            "justify_content": null,
            "justify_items": null,
            "left": null,
            "margin": null,
            "max_height": null,
            "max_width": null,
            "min_height": null,
            "min_width": null,
            "object_fit": null,
            "object_position": null,
            "order": null,
            "overflow": null,
            "overflow_x": null,
            "overflow_y": null,
            "padding": null,
            "right": null,
            "top": null,
            "visibility": null,
            "width": null
          }
        },
        "e3e7e6f29db045c9bc8dd03a77cd5e6a": {
          "model_module": "@jupyter-widgets/controls",
          "model_module_version": "1.5.0",
          "model_name": "ProgressStyleModel",
          "state": {
            "_model_module": "@jupyter-widgets/controls",
            "_model_module_version": "1.5.0",
            "_model_name": "ProgressStyleModel",
            "_view_count": null,
            "_view_module": "@jupyter-widgets/base",
            "_view_module_version": "1.2.0",
            "_view_name": "StyleView",
            "bar_color": null,
            "description_width": ""
          }
        },
        "e84c4f48d012401fab2df09377062e03": {
          "model_module": "@jupyter-widgets/base",
          "model_module_version": "1.2.0",
          "model_name": "LayoutModel",
          "state": {
            "_model_module": "@jupyter-widgets/base",
            "_model_module_version": "1.2.0",
            "_model_name": "LayoutModel",
            "_view_count": null,
            "_view_module": "@jupyter-widgets/base",
            "_view_module_version": "1.2.0",
            "_view_name": "LayoutView",
            "align_content": null,
            "align_items": null,
            "align_self": null,
            "border": null,
            "bottom": null,
            "display": null,
            "flex": null,
            "flex_flow": null,
            "grid_area": null,
            "grid_auto_columns": null,
            "grid_auto_flow": null,
            "grid_auto_rows": null,
            "grid_column": null,
            "grid_gap": null,
            "grid_row": null,
            "grid_template_areas": null,
            "grid_template_columns": null,
            "grid_template_rows": null,
            "height": null,
            "justify_content": null,
            "justify_items": null,
            "left": null,
            "margin": null,
            "max_height": null,
            "max_width": null,
            "min_height": null,
            "min_width": null,
            "object_fit": null,
            "object_position": null,
            "order": null,
            "overflow": null,
            "overflow_x": null,
            "overflow_y": null,
            "padding": null,
            "right": null,
            "top": null,
            "visibility": null,
            "width": null
          }
        },
        "e9eb20e13f28479eb2014e709ddcd476": {
          "model_module": "@jupyter-widgets/controls",
          "model_module_version": "1.5.0",
          "model_name": "HBoxModel",
          "state": {
            "_dom_classes": [],
            "_model_module": "@jupyter-widgets/controls",
            "_model_module_version": "1.5.0",
            "_model_name": "HBoxModel",
            "_view_count": null,
            "_view_module": "@jupyter-widgets/controls",
            "_view_module_version": "1.5.0",
            "_view_name": "HBoxView",
            "box_style": "",
            "children": [
              "IPY_MODEL_33accc0b455b4a9ebac1ebac9f343b3a",
              "IPY_MODEL_89458caf165644fb84852a902813d653",
              "IPY_MODEL_81fad4f4b2154b359656e6c514cc5f13"
            ],
            "layout": "IPY_MODEL_554d701acbea44178ebe1ec25703c19c"
          }
        },
        "ed52e485047141699a8ccd890cf60e58": {
          "model_module": "@jupyter-widgets/controls",
          "model_module_version": "1.5.0",
          "model_name": "HTMLModel",
          "state": {
            "_dom_classes": [],
            "_model_module": "@jupyter-widgets/controls",
            "_model_module_version": "1.5.0",
            "_model_name": "HTMLModel",
            "_view_count": null,
            "_view_module": "@jupyter-widgets/controls",
            "_view_module_version": "1.5.0",
            "_view_name": "HTMLView",
            "description": "",
            "description_tooltip": null,
            "layout": "IPY_MODEL_8440feee01e54c51bc21aea05b2dd68d",
            "placeholder": "​",
            "style": "IPY_MODEL_2675ab0c36fa463585c131ee6e8cba16",
            "value": " 2.27k/2.27k [00:00&lt;00:00, 128kB/s]"
          }
        },
        "f9c8ee5486474a15bb19a1e22a6f9474": {
          "model_module": "@jupyter-widgets/base",
          "model_module_version": "1.2.0",
          "model_name": "LayoutModel",
          "state": {
            "_model_module": "@jupyter-widgets/base",
            "_model_module_version": "1.2.0",
            "_model_name": "LayoutModel",
            "_view_count": null,
            "_view_module": "@jupyter-widgets/base",
            "_view_module_version": "1.2.0",
            "_view_name": "LayoutView",
            "align_content": null,
            "align_items": null,
            "align_self": null,
            "border": null,
            "bottom": null,
            "display": null,
            "flex": null,
            "flex_flow": null,
            "grid_area": null,
            "grid_auto_columns": null,
            "grid_auto_flow": null,
            "grid_auto_rows": null,
            "grid_column": null,
            "grid_gap": null,
            "grid_row": null,
            "grid_template_areas": null,
            "grid_template_columns": null,
            "grid_template_rows": null,
            "height": null,
            "justify_content": null,
            "justify_items": null,
            "left": null,
            "margin": null,
            "max_height": null,
            "max_width": null,
            "min_height": null,
            "min_width": null,
            "object_fit": null,
            "object_position": null,
            "order": null,
            "overflow": null,
            "overflow_x": null,
            "overflow_y": null,
            "padding": null,
            "right": null,
            "top": null,
            "visibility": null,
            "width": null
          }
        },
        "fcbdc507651d48ff9bd858e0bf15c94f": {
          "model_module": "@jupyter-widgets/base",
          "model_module_version": "1.2.0",
          "model_name": "LayoutModel",
          "state": {
            "_model_module": "@jupyter-widgets/base",
            "_model_module_version": "1.2.0",
            "_model_name": "LayoutModel",
            "_view_count": null,
            "_view_module": "@jupyter-widgets/base",
            "_view_module_version": "1.2.0",
            "_view_name": "LayoutView",
            "align_content": null,
            "align_items": null,
            "align_self": null,
            "border": null,
            "bottom": null,
            "display": null,
            "flex": null,
            "flex_flow": null,
            "grid_area": null,
            "grid_auto_columns": null,
            "grid_auto_flow": null,
            "grid_auto_rows": null,
            "grid_column": null,
            "grid_gap": null,
            "grid_row": null,
            "grid_template_areas": null,
            "grid_template_columns": null,
            "grid_template_rows": null,
            "height": null,
            "justify_content": null,
            "justify_items": null,
            "left": null,
            "margin": null,
            "max_height": null,
            "max_width": null,
            "min_height": null,
            "min_width": null,
            "object_fit": null,
            "object_position": null,
            "order": null,
            "overflow": null,
            "overflow_x": null,
            "overflow_y": null,
            "padding": null,
            "right": null,
            "top": null,
            "visibility": null,
            "width": null
          }
        },
        "fe449f07e23046fc9b45267b4ba9035b": {
          "model_module": "@jupyter-widgets/base",
          "model_module_version": "1.2.0",
          "model_name": "LayoutModel",
          "state": {
            "_model_module": "@jupyter-widgets/base",
            "_model_module_version": "1.2.0",
            "_model_name": "LayoutModel",
            "_view_count": null,
            "_view_module": "@jupyter-widgets/base",
            "_view_module_version": "1.2.0",
            "_view_name": "LayoutView",
            "align_content": null,
            "align_items": null,
            "align_self": null,
            "border": null,
            "bottom": null,
            "display": null,
            "flex": null,
            "flex_flow": null,
            "grid_area": null,
            "grid_auto_columns": null,
            "grid_auto_flow": null,
            "grid_auto_rows": null,
            "grid_column": null,
            "grid_gap": null,
            "grid_row": null,
            "grid_template_areas": null,
            "grid_template_columns": null,
            "grid_template_rows": null,
            "height": null,
            "justify_content": null,
            "justify_items": null,
            "left": null,
            "margin": null,
            "max_height": null,
            "max_width": null,
            "min_height": null,
            "min_width": null,
            "object_fit": null,
            "object_position": null,
            "order": null,
            "overflow": null,
            "overflow_x": null,
            "overflow_y": null,
            "padding": null,
            "right": null,
            "top": null,
            "visibility": null,
            "width": null
          }
        },
        "ff4bb771565c4567b0c7e2d8a9efe6e8": {
          "model_module": "@jupyter-widgets/controls",
          "model_module_version": "1.5.0",
          "model_name": "FloatProgressModel",
          "state": {
            "_dom_classes": [],
            "_model_module": "@jupyter-widgets/controls",
            "_model_module_version": "1.5.0",
            "_model_name": "FloatProgressModel",
            "_view_count": null,
            "_view_module": "@jupyter-widgets/controls",
            "_view_module_version": "1.5.0",
            "_view_name": "ProgressView",
            "bar_style": "success",
            "description": "",
            "description_tooltip": null,
            "layout": "IPY_MODEL_616fffdc9379400699b665063c907f0c",
            "max": 3247159078,
            "min": 0,
            "orientation": "horizontal",
            "style": "IPY_MODEL_c17ea8077da54df2b7f72becfa7054a8",
            "value": 3247159078
          }
        },
        "fffe094ee0b6435a8cbd23925bbc9bd6": {
          "model_module": "@jupyter-widgets/controls",
          "model_module_version": "1.5.0",
          "model_name": "DescriptionStyleModel",
          "state": {
            "_model_module": "@jupyter-widgets/controls",
            "_model_module_version": "1.5.0",
            "_model_name": "DescriptionStyleModel",
            "_view_count": null,
            "_view_module": "@jupyter-widgets/base",
            "_view_module_version": "1.2.0",
            "_view_name": "StyleView",
            "description_width": ""
          }
        }
      }
    }
  },
  "nbformat": 4,
  "nbformat_minor": 0
}
